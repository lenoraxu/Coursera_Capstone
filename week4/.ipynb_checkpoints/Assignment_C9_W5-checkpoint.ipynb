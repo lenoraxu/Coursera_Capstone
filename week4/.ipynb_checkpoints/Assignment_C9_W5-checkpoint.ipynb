{
 "cells": [
  {
   "cell_type": "code",
   "execution_count": 144,
   "metadata": {},
   "outputs": [
    {
     "name": "stdout",
     "output_type": "stream",
     "text": [
      "Libraries imported.\n"
     ]
    }
   ],
   "source": [
    "import seaborn as sns\n",
    "import numpy as np # library to handle data in a vectorized manner\n",
    "\n",
    "import pandas as pd # library for data analsysis\n",
    "pd.set_option('display.max_columns', None)\n",
    "pd.set_option('display.max_rows', None)\n",
    "\n",
    "import json # library to handle JSON files\n",
    "\n",
    "#!conda install -c conda-forge geopy --yes # uncomment this line if you haven't completed the Foursquare API lab\n",
    "from geopy.geocoders import Nominatim # convert an address into latitude and longitude values\n",
    "\n",
    "import requests # library to handle requests\n",
    "from pandas.io.json import json_normalize # tranform JSON file into a pandas dataframe\n",
    "\n",
    "# Matplotlib and associated plotting modules\n",
    "import matplotlib.cm as cm\n",
    "import matplotlib.colors as colors\n",
    "from mpl_toolkits.mplot3d import Axes3D  # noqa: F401 unused import\n",
    "import matplotlib.pyplot as plt\n",
    "sns.set()\n",
    "# import k-means from clustering stage\n",
    "from sklearn.cluster import KMeans\n",
    "\n",
    "#!conda install -c conda-forge folium=0.5.0 --yes # uncomment this line if you haven't completed the Foursquare API lab\n",
    "import folium # map rendering library\n",
    "\n",
    "print('Libraries imported.')"
   ]
  },
  {
   "cell_type": "code",
   "execution_count": 145,
   "metadata": {},
   "outputs": [
    {
     "data": {
      "text/html": [
       "<div>\n",
       "<style scoped>\n",
       "    .dataframe tbody tr th:only-of-type {\n",
       "        vertical-align: middle;\n",
       "    }\n",
       "\n",
       "    .dataframe tbody tr th {\n",
       "        vertical-align: top;\n",
       "    }\n",
       "\n",
       "    .dataframe thead th {\n",
       "        text-align: right;\n",
       "    }\n",
       "</style>\n",
       "<table border=\"1\" class=\"dataframe\">\n",
       "  <thead>\n",
       "    <tr style=\"text-align: right;\">\n",
       "      <th></th>\n",
       "      <th>Restaurant name</th>\n",
       "      <th>Neighborhood</th>\n",
       "      <th>Borough</th>\n",
       "      <th>Median Household Income</th>\n",
       "      <th>Neighborhood Latitude</th>\n",
       "      <th>Neighborhood Longitude</th>\n",
       "      <th>Pop./km2</th>\n",
       "      <th>Venue Category</th>\n",
       "      <th>Venue Latitude</th>\n",
       "      <th>Venue Longitude</th>\n",
       "      <th>Competitors</th>\n",
       "    </tr>\n",
       "  </thead>\n",
       "  <tbody>\n",
       "    <tr>\n",
       "      <th>0</th>\n",
       "      <td>White Castle_0</td>\n",
       "      <td>Allerton</td>\n",
       "      <td>Bronx</td>\n",
       "      <td>37816.894737</td>\n",
       "      <td>40.865788</td>\n",
       "      <td>-73.859319</td>\n",
       "      <td>12149.0</td>\n",
       "      <td>Fast Food Restaurant</td>\n",
       "      <td>40.866065</td>\n",
       "      <td>-73.862307</td>\n",
       "      <td>4</td>\n",
       "    </tr>\n",
       "    <tr>\n",
       "      <th>1</th>\n",
       "      <td>Li's Kitchen_1</td>\n",
       "      <td>Allerton</td>\n",
       "      <td>Bronx</td>\n",
       "      <td>37816.894737</td>\n",
       "      <td>40.865788</td>\n",
       "      <td>-73.859319</td>\n",
       "      <td>12149.0</td>\n",
       "      <td>Chinese Restaurant</td>\n",
       "      <td>40.863566</td>\n",
       "      <td>-73.858372</td>\n",
       "      <td>4</td>\n",
       "    </tr>\n",
       "    <tr>\n",
       "      <th>2</th>\n",
       "      <td>Chef King_2</td>\n",
       "      <td>Allerton</td>\n",
       "      <td>Bronx</td>\n",
       "      <td>37816.894737</td>\n",
       "      <td>40.865788</td>\n",
       "      <td>-73.859319</td>\n",
       "      <td>12149.0</td>\n",
       "      <td>Chinese Restaurant</td>\n",
       "      <td>40.865561</td>\n",
       "      <td>-73.856752</td>\n",
       "      <td>4</td>\n",
       "    </tr>\n",
       "    <tr>\n",
       "      <th>3</th>\n",
       "      <td>Internacional Restaurant &amp; Deli_3</td>\n",
       "      <td>Allerton</td>\n",
       "      <td>Bronx</td>\n",
       "      <td>37816.894737</td>\n",
       "      <td>40.865788</td>\n",
       "      <td>-73.859319</td>\n",
       "      <td>12149.0</td>\n",
       "      <td>Spanish Restaurant</td>\n",
       "      <td>40.863809</td>\n",
       "      <td>-73.856640</td>\n",
       "      <td>4</td>\n",
       "    </tr>\n",
       "    <tr>\n",
       "      <th>4</th>\n",
       "      <td>Il Sogno_762</td>\n",
       "      <td>Annadale</td>\n",
       "      <td>Staten Island</td>\n",
       "      <td>66764.200000</td>\n",
       "      <td>40.538114</td>\n",
       "      <td>-74.178549</td>\n",
       "      <td>2593.0</td>\n",
       "      <td>Restaurant</td>\n",
       "      <td>40.541286</td>\n",
       "      <td>-74.178489</td>\n",
       "      <td>1</td>\n",
       "    </tr>\n",
       "  </tbody>\n",
       "</table>\n",
       "</div>"
      ],
      "text/plain": [
       "                     Restaurant name Neighborhood        Borough  \\\n",
       "0                     White Castle_0     Allerton          Bronx   \n",
       "1                     Li's Kitchen_1     Allerton          Bronx   \n",
       "2                        Chef King_2     Allerton          Bronx   \n",
       "3  Internacional Restaurant & Deli_3     Allerton          Bronx   \n",
       "4                       Il Sogno_762     Annadale  Staten Island   \n",
       "\n",
       "   Median Household Income  Neighborhood Latitude  Neighborhood Longitude  \\\n",
       "0             37816.894737              40.865788              -73.859319   \n",
       "1             37816.894737              40.865788              -73.859319   \n",
       "2             37816.894737              40.865788              -73.859319   \n",
       "3             37816.894737              40.865788              -73.859319   \n",
       "4             66764.200000              40.538114              -74.178549   \n",
       "\n",
       "   Pop./km2        Venue Category  Venue Latitude  Venue Longitude  \\\n",
       "0   12149.0  Fast Food Restaurant       40.866065       -73.862307   \n",
       "1   12149.0    Chinese Restaurant       40.863566       -73.858372   \n",
       "2   12149.0    Chinese Restaurant       40.865561       -73.856752   \n",
       "3   12149.0    Spanish Restaurant       40.863809       -73.856640   \n",
       "4    2593.0            Restaurant       40.541286       -74.178489   \n",
       "\n",
       "   Competitors  \n",
       "0            4  \n",
       "1            4  \n",
       "2            4  \n",
       "3            4  \n",
       "4            1  "
      ]
     },
     "execution_count": 145,
     "metadata": {},
     "output_type": "execute_result"
    }
   ],
   "source": [
    "# Load data from df_res.csv\n",
    "df_res=pd.read_csv('df_res.csv')\n",
    "df_res.head()"
   ]
  },
  {
   "cell_type": "code",
   "execution_count": 146,
   "metadata": {},
   "outputs": [
    {
     "data": {
      "text/html": [
       "<div>\n",
       "<style scoped>\n",
       "    .dataframe tbody tr th:only-of-type {\n",
       "        vertical-align: middle;\n",
       "    }\n",
       "\n",
       "    .dataframe tbody tr th {\n",
       "        vertical-align: top;\n",
       "    }\n",
       "\n",
       "    .dataframe thead th {\n",
       "        text-align: right;\n",
       "    }\n",
       "</style>\n",
       "<table border=\"1\" class=\"dataframe\">\n",
       "  <thead>\n",
       "    <tr style=\"text-align: right;\">\n",
       "      <th></th>\n",
       "      <th>Restaurant name</th>\n",
       "      <th>Median Household Income</th>\n",
       "      <th>Pop./km2</th>\n",
       "      <th>Competitors</th>\n",
       "    </tr>\n",
       "  </thead>\n",
       "  <tbody>\n",
       "    <tr>\n",
       "      <th>0</th>\n",
       "      <td>White Castle_0</td>\n",
       "      <td>37816.894737</td>\n",
       "      <td>12149.0</td>\n",
       "      <td>4</td>\n",
       "    </tr>\n",
       "    <tr>\n",
       "      <th>1</th>\n",
       "      <td>Li's Kitchen_1</td>\n",
       "      <td>37816.894737</td>\n",
       "      <td>12149.0</td>\n",
       "      <td>4</td>\n",
       "    </tr>\n",
       "    <tr>\n",
       "      <th>2</th>\n",
       "      <td>Chef King_2</td>\n",
       "      <td>37816.894737</td>\n",
       "      <td>12149.0</td>\n",
       "      <td>4</td>\n",
       "    </tr>\n",
       "    <tr>\n",
       "      <th>3</th>\n",
       "      <td>Internacional Restaurant &amp; Deli_3</td>\n",
       "      <td>37816.894737</td>\n",
       "      <td>12149.0</td>\n",
       "      <td>4</td>\n",
       "    </tr>\n",
       "    <tr>\n",
       "      <th>4</th>\n",
       "      <td>Il Sogno_762</td>\n",
       "      <td>66764.200000</td>\n",
       "      <td>2593.0</td>\n",
       "      <td>1</td>\n",
       "    </tr>\n",
       "  </tbody>\n",
       "</table>\n",
       "</div>"
      ],
      "text/plain": [
       "                     Restaurant name  Median Household Income  Pop./km2  \\\n",
       "0                     White Castle_0             37816.894737   12149.0   \n",
       "1                     Li's Kitchen_1             37816.894737   12149.0   \n",
       "2                        Chef King_2             37816.894737   12149.0   \n",
       "3  Internacional Restaurant & Deli_3             37816.894737   12149.0   \n",
       "4                       Il Sogno_762             66764.200000    2593.0   \n",
       "\n",
       "   Competitors  \n",
       "0            4  \n",
       "1            4  \n",
       "2            4  \n",
       "3            4  \n",
       "4            1  "
      ]
     },
     "execution_count": 146,
     "metadata": {},
     "output_type": "execute_result"
    }
   ],
   "source": [
    "df1=df_res[['Restaurant name','Median Household Income','Pop./km2','Competitors']]\n",
    "df1.head()"
   ]
  },
  {
   "cell_type": "code",
   "execution_count": null,
   "metadata": {},
   "outputs": [],
   "source": []
  },
  {
   "cell_type": "code",
   "execution_count": 147,
   "metadata": {},
   "outputs": [
    {
     "name": "stderr",
     "output_type": "stream",
     "text": [
      "C:\\Users\\lenor\\Anaconda3\\lib\\site-packages\\sklearn\\utils\\validation.py:595: DataConversionWarning: Data with input dtype object was converted to float64 by StandardScaler.\n",
      "  warnings.warn(msg, DataConversionWarning)\n",
      "C:\\Users\\lenor\\Anaconda3\\lib\\site-packages\\sklearn\\utils\\validation.py:595: DataConversionWarning: Data with input dtype object was converted to float64 by StandardScaler.\n",
      "  warnings.warn(msg, DataConversionWarning)\n"
     ]
    },
    {
     "data": {
      "text/plain": [
       "array([[-1.20642726, -0.54278356, -0.92300793],\n",
       "       [-1.20642726, -0.54278356, -0.92300793],\n",
       "       [-1.20642726, -0.54278356, -0.92300793],\n",
       "       ...,\n",
       "       [ 1.14337602,  1.15426539,  0.15670275],\n",
       "       [ 1.14337602,  1.15426539,  0.15670275],\n",
       "       [ 1.14337602,  1.15426539,  0.15670275]])"
      ]
     },
     "execution_count": 147,
     "metadata": {},
     "output_type": "execute_result"
    }
   ],
   "source": [
    "#  let's normalize the dataset.\n",
    "from sklearn.preprocessing import StandardScaler\n",
    "\n",
    "X = df1.values[:,1:]\n",
    "X = np.nan_to_num(X)\n",
    "cluster_dataset = StandardScaler().fit_transform(X)\n",
    "cluster_dataset\n"
   ]
  },
  {
   "cell_type": "code",
   "execution_count": 148,
   "metadata": {},
   "outputs": [
    {
     "name": "stdout",
     "output_type": "stream",
     "text": [
      "[0 0 0 ... 3 3 3]\n"
     ]
    }
   ],
   "source": [
    "num_clusters = 5\n",
    "\n",
    "k_means = KMeans(init=\"k-means++\", n_clusters=num_clusters, n_init=12)\n",
    "k_means.fit(cluster_dataset)\n",
    "labels = k_means.labels_\n",
    "\n",
    "print(labels)"
   ]
  },
  {
   "cell_type": "code",
   "execution_count": 149,
   "metadata": {
    "scrolled": false
   },
   "outputs": [
    {
     "name": "stderr",
     "output_type": "stream",
     "text": [
      "C:\\Users\\lenor\\Anaconda3\\lib\\site-packages\\ipykernel_launcher.py:1: SettingWithCopyWarning: \n",
      "A value is trying to be set on a copy of a slice from a DataFrame.\n",
      "Try using .loc[row_indexer,col_indexer] = value instead\n",
      "\n",
      "See the caveats in the documentation: http://pandas.pydata.org/pandas-docs/stable/indexing.html#indexing-view-versus-copy\n",
      "  \"\"\"Entry point for launching an IPython kernel.\n"
     ]
    },
    {
     "data": {
      "text/html": [
       "<div>\n",
       "<style scoped>\n",
       "    .dataframe tbody tr th:only-of-type {\n",
       "        vertical-align: middle;\n",
       "    }\n",
       "\n",
       "    .dataframe tbody tr th {\n",
       "        vertical-align: top;\n",
       "    }\n",
       "\n",
       "    .dataframe thead th {\n",
       "        text-align: right;\n",
       "    }\n",
       "</style>\n",
       "<table border=\"1\" class=\"dataframe\">\n",
       "  <thead>\n",
       "    <tr style=\"text-align: right;\">\n",
       "      <th></th>\n",
       "      <th>Restaurant name</th>\n",
       "      <th>Median Household Income</th>\n",
       "      <th>Pop./km2</th>\n",
       "      <th>Competitors</th>\n",
       "      <th>Labels</th>\n",
       "    </tr>\n",
       "  </thead>\n",
       "  <tbody>\n",
       "    <tr>\n",
       "      <th>0</th>\n",
       "      <td>White Castle_0</td>\n",
       "      <td>37816.894737</td>\n",
       "      <td>12149.0</td>\n",
       "      <td>4</td>\n",
       "      <td>0</td>\n",
       "    </tr>\n",
       "    <tr>\n",
       "      <th>1</th>\n",
       "      <td>Li's Kitchen_1</td>\n",
       "      <td>37816.894737</td>\n",
       "      <td>12149.0</td>\n",
       "      <td>4</td>\n",
       "      <td>0</td>\n",
       "    </tr>\n",
       "    <tr>\n",
       "      <th>2</th>\n",
       "      <td>Chef King_2</td>\n",
       "      <td>37816.894737</td>\n",
       "      <td>12149.0</td>\n",
       "      <td>4</td>\n",
       "      <td>0</td>\n",
       "    </tr>\n",
       "    <tr>\n",
       "      <th>3</th>\n",
       "      <td>Internacional Restaurant &amp; Deli_3</td>\n",
       "      <td>37816.894737</td>\n",
       "      <td>12149.0</td>\n",
       "      <td>4</td>\n",
       "      <td>0</td>\n",
       "    </tr>\n",
       "    <tr>\n",
       "      <th>4</th>\n",
       "      <td>Il Sogno_762</td>\n",
       "      <td>66764.200000</td>\n",
       "      <td>2593.0</td>\n",
       "      <td>1</td>\n",
       "      <td>0</td>\n",
       "    </tr>\n",
       "  </tbody>\n",
       "</table>\n",
       "</div>"
      ],
      "text/plain": [
       "                     Restaurant name  Median Household Income  Pop./km2  \\\n",
       "0                     White Castle_0             37816.894737   12149.0   \n",
       "1                     Li's Kitchen_1             37816.894737   12149.0   \n",
       "2                        Chef King_2             37816.894737   12149.0   \n",
       "3  Internacional Restaurant & Deli_3             37816.894737   12149.0   \n",
       "4                       Il Sogno_762             66764.200000    2593.0   \n",
       "\n",
       "   Competitors  Labels  \n",
       "0            4       0  \n",
       "1            4       0  \n",
       "2            4       0  \n",
       "3            4       0  \n",
       "4            1       0  "
      ]
     },
     "execution_count": 149,
     "metadata": {},
     "output_type": "execute_result"
    }
   ],
   "source": [
    "df1[\"Labels\"] = labels\n",
    "df1.head()"
   ]
  },
  {
   "cell_type": "markdown",
   "metadata": {},
   "source": [
    "<h2 id=\"pattern_visualization\">2. Analyzing Individual Feature Patterns using Visualization</h2>"
   ]
  },
  {
   "cell_type": "code",
   "execution_count": 21,
   "metadata": {
    "scrolled": true
   },
   "outputs": [],
   "source": [
    "from matplotlib.colors import ListedColormap\n",
    "palette=sns.color_palette(sns.hls_palette(5, l=.5, s=1.0))\n",
    "cmap1=ListedColormap(palette.as_hex())\n",
    "sns.set(font_scale=1)  # crazy big"
   ]
  },
  {
   "cell_type": "code",
   "execution_count": 22,
   "metadata": {},
   "outputs": [
    {
     "data": {
      "image/png": "[encoded data removed]",
      "text/plain": [
       "<Figure size 720x720 with 1 Axes>"
      ]
     },
     "metadata": {},
     "output_type": "display_data"
    }
   ],
   "source": [
    "fig = plt.figure(figsize=(10,10))\n",
    "ax = fig.add_subplot(111, projection='3d')\n",
    "c={}\n",
    "ax.scatter(df1[\"Pop./km2\"], df1[\"Median Household Income\"], df1[\"Competitors\"], c=df1[\"Labels\"],cmap=cmap1)\n",
    "\n",
    "ax.set_xlabel('Population density')\n",
    "ax.set_ylabel('Meidan household income')\n",
    "ax.set_zlabel('#Competitors')\n",
    "\n",
    "plt.show()"
   ]
  },
  {
   "cell_type": "code",
   "execution_count": 23,
   "metadata": {
    "scrolled": false
   },
   "outputs": [
    {
     "name": "stderr",
     "output_type": "stream",
     "text": [
      "C:\\Users\\lenor\\Anaconda3\\lib\\site-packages\\scipy\\stats\\stats.py:1713: FutureWarning: Using a non-tuple sequence for multidimensional indexing is deprecated; use `arr[tuple(seq)]` instead of `arr[seq]`. In the future this will be interpreted as an array index, `arr[np.array(seq)]`, which will result either in an error or a different result.\n",
      "  return np.add.reduce(sorted[indexer] * weights, axis=axis) / sumval\n"
     ]
    },
    {
     "data": {
      "image/png": "[encoded data removed]",
      "text/plain": [
       "<Figure size 2520x576 with 3 Axes>"
      ]
     },
     "metadata": {},
     "output_type": "display_data"
    }
   ],
   "source": [
    "\n"
   ]
  },
  {
   "cell_type": "code",
   "execution_count": 24,
   "metadata": {},
   "outputs": [
    {
     "data": {
      "image/png": "[encoded data removed]",
      "text/plain": [
       "<Figure size 2520x576 with 3 Axes>"
      ]
     },
     "metadata": {},
     "output_type": "display_data"
    }
   ],
   "source": [
    "fig=plt.figure(figsize=(35,8))\n",
    "sns.set(font_scale=2) \n",
    "plt.subplot(131)\n",
    "ax1 = sns.barplot(x=\"Pop./km2\", y=\"Competitors\", data=df1, capsize=.2,palette=palette)\n",
    "plt.subplot(132)\n",
    "ax2 = sns.barplot(x=\"Median Household Income\", y=\"Competitors\", data=df1, capsize=.2,palette=palette)\n",
    "\n",
    "plt.subplot(133)\n",
    "ax3 = sns.barplot(x=\"Labels\", y=\"Competitors\", data=df1, capsize=.2,palette=palette)"
   ]
  },
  {
   "cell_type": "code",
   "execution_count": 25,
   "metadata": {},
   "outputs": [
    {
     "name": "stdout",
     "output_type": "stream",
     "text": [
      "Restaurant name             object\n",
      "Median Household Income    float64\n",
      "Pop./km2                   float64\n",
      "Competitors                  int64\n",
      "Labels                       int32\n",
      "dtype: object\n"
     ]
    }
   ],
   "source": [
    "# list the data types for each column\n",
    "print(df1.dtypes)"
   ]
  },
  {
   "cell_type": "code",
   "execution_count": 26,
   "metadata": {},
   "outputs": [
    {
     "data": {
      "text/html": [
       "<div>\n",
       "<style scoped>\n",
       "    .dataframe tbody tr th:only-of-type {\n",
       "        vertical-align: middle;\n",
       "    }\n",
       "\n",
       "    .dataframe tbody tr th {\n",
       "        vertical-align: top;\n",
       "    }\n",
       "\n",
       "    .dataframe thead th {\n",
       "        text-align: right;\n",
       "    }\n",
       "</style>\n",
       "<table border=\"1\" class=\"dataframe\">\n",
       "  <thead>\n",
       "    <tr style=\"text-align: right;\">\n",
       "      <th></th>\n",
       "      <th>Median Household Income</th>\n",
       "      <th>Pop./km2</th>\n",
       "      <th>Competitors</th>\n",
       "      <th>Labels</th>\n",
       "    </tr>\n",
       "  </thead>\n",
       "  <tbody>\n",
       "    <tr>\n",
       "      <th>Median Household Income</th>\n",
       "      <td>1.000000</td>\n",
       "      <td>0.367786</td>\n",
       "      <td>0.237639</td>\n",
       "      <td>0.027134</td>\n",
       "    </tr>\n",
       "    <tr>\n",
       "      <th>Pop./km2</th>\n",
       "      <td>0.367786</td>\n",
       "      <td>1.000000</td>\n",
       "      <td>0.221071</td>\n",
       "      <td>0.439724</td>\n",
       "    </tr>\n",
       "    <tr>\n",
       "      <th>Competitors</th>\n",
       "      <td>0.237639</td>\n",
       "      <td>0.221071</td>\n",
       "      <td>1.000000</td>\n",
       "      <td>-0.129380</td>\n",
       "    </tr>\n",
       "    <tr>\n",
       "      <th>Labels</th>\n",
       "      <td>0.027134</td>\n",
       "      <td>0.439724</td>\n",
       "      <td>-0.129380</td>\n",
       "      <td>1.000000</td>\n",
       "    </tr>\n",
       "  </tbody>\n",
       "</table>\n",
       "</div>"
      ],
      "text/plain": [
       "                         Median Household Income  Pop./km2  Competitors  \\\n",
       "Median Household Income                 1.000000  0.367786     0.237639   \n",
       "Pop./km2                                0.367786  1.000000     0.221071   \n",
       "Competitors                             0.237639  0.221071     1.000000   \n",
       "Labels                                  0.027134  0.439724    -0.129380   \n",
       "\n",
       "                           Labels  \n",
       "Median Household Income  0.027134  \n",
       "Pop./km2                 0.439724  \n",
       "Competitors             -0.129380  \n",
       "Labels                   1.000000  "
      ]
     },
     "execution_count": 26,
     "metadata": {},
     "output_type": "execute_result"
    }
   ],
   "source": [
    "df1.corr()"
   ]
  },
  {
   "cell_type": "code",
   "execution_count": 27,
   "metadata": {},
   "outputs": [
    {
     "ename": "SyntaxError",
     "evalue": "invalid syntax (<ipython-input-27-06d9adf93d8c>, line 1)",
     "output_type": "error",
     "traceback": [
      "\u001b[1;36m  File \u001b[1;32m\"<ipython-input-27-06d9adf93d8c>\"\u001b[1;36m, line \u001b[1;32m1\u001b[0m\n\u001b[1;33m    It looks\u001b[0m\n\u001b[1;37m           ^\u001b[0m\n\u001b[1;31mSyntaxError\u001b[0m\u001b[1;31m:\u001b[0m invalid syntax\n"
     ]
    }
   ],
   "source": []
  },
  {
   "cell_type": "code",
   "execution_count": 117,
   "metadata": {},
   "outputs": [
    {
     "data": {
      "text/html": [
       "<div>\n",
       "<style scoped>\n",
       "    .dataframe tbody tr th:only-of-type {\n",
       "        vertical-align: middle;\n",
       "    }\n",
       "\n",
       "    .dataframe tbody tr th {\n",
       "        vertical-align: top;\n",
       "    }\n",
       "\n",
       "    .dataframe thead th {\n",
       "        text-align: right;\n",
       "    }\n",
       "</style>\n",
       "<table border=\"1\" class=\"dataframe\">\n",
       "  <thead>\n",
       "    <tr style=\"text-align: right;\">\n",
       "      <th></th>\n",
       "      <th>Median Household Income</th>\n",
       "      <th>Pop./km2</th>\n",
       "      <th>Competitors</th>\n",
       "    </tr>\n",
       "    <tr>\n",
       "      <th>Neighborhood</th>\n",
       "      <th></th>\n",
       "      <th></th>\n",
       "      <th></th>\n",
       "    </tr>\n",
       "  </thead>\n",
       "  <tbody>\n",
       "    <tr>\n",
       "      <th>Allerton</th>\n",
       "      <td>37816.894737</td>\n",
       "      <td>12149.0</td>\n",
       "      <td>4</td>\n",
       "    </tr>\n",
       "    <tr>\n",
       "      <th>Annadale</th>\n",
       "      <td>66764.200000</td>\n",
       "      <td>2593.0</td>\n",
       "      <td>1</td>\n",
       "    </tr>\n",
       "    <tr>\n",
       "      <th>Arlington</th>\n",
       "      <td>66764.200000</td>\n",
       "      <td>4440.0</td>\n",
       "      <td>1</td>\n",
       "    </tr>\n",
       "    <tr>\n",
       "      <th>Arrochar</th>\n",
       "      <td>66764.200000</td>\n",
       "      <td>2326.0</td>\n",
       "      <td>4</td>\n",
       "    </tr>\n",
       "    <tr>\n",
       "      <th>Arverne</th>\n",
       "      <td>39432.000000</td>\n",
       "      <td>4583.0</td>\n",
       "      <td>1</td>\n",
       "    </tr>\n",
       "  </tbody>\n",
       "</table>\n",
       "</div>"
      ],
      "text/plain": [
       "              Median Household Income  Pop./km2  Competitors\n",
       "Neighborhood                                                \n",
       "Allerton                 37816.894737   12149.0            4\n",
       "Annadale                 66764.200000    2593.0            1\n",
       "Arlington                66764.200000    4440.0            1\n",
       "Arrochar                 66764.200000    2326.0            4\n",
       "Arverne                  39432.000000    4583.0            1"
      ]
     },
     "execution_count": 117,
     "metadata": {},
     "output_type": "execute_result"
    }
   ],
   "source": []
  },
  {
   "cell_type": "code",
   "execution_count": 32,
   "metadata": {},
   "outputs": [
    {
     "data": {
      "text/html": [
       "<div>\n",
       "<style scoped>\n",
       "    .dataframe tbody tr th:only-of-type {\n",
       "        vertical-align: middle;\n",
       "    }\n",
       "\n",
       "    .dataframe tbody tr th {\n",
       "        vertical-align: top;\n",
       "    }\n",
       "\n",
       "    .dataframe thead th {\n",
       "        text-align: right;\n",
       "    }\n",
       "</style>\n",
       "<table border=\"1\" class=\"dataframe\">\n",
       "  <thead>\n",
       "    <tr style=\"text-align: right;\">\n",
       "      <th></th>\n",
       "      <th>Median Household Income</th>\n",
       "      <th>Pop./km2</th>\n",
       "      <th>Competitors</th>\n",
       "    </tr>\n",
       "  </thead>\n",
       "  <tbody>\n",
       "    <tr>\n",
       "      <th>Median Household Income</th>\n",
       "      <td>1.000000</td>\n",
       "      <td>0.173180</td>\n",
       "      <td>0.371513</td>\n",
       "    </tr>\n",
       "    <tr>\n",
       "      <th>Pop./km2</th>\n",
       "      <td>0.173180</td>\n",
       "      <td>1.000000</td>\n",
       "      <td>0.420531</td>\n",
       "    </tr>\n",
       "    <tr>\n",
       "      <th>Competitors</th>\n",
       "      <td>0.371513</td>\n",
       "      <td>0.420531</td>\n",
       "      <td>1.000000</td>\n",
       "    </tr>\n",
       "  </tbody>\n",
       "</table>\n",
       "</div>"
      ],
      "text/plain": [
       "                         Median Household Income  Pop./km2  Competitors\n",
       "Median Household Income                 1.000000  0.173180     0.371513\n",
       "Pop./km2                                0.173180  1.000000     0.420531\n",
       "Competitors                             0.371513  0.420531     1.000000"
      ]
     },
     "execution_count": 32,
     "metadata": {},
     "output_type": "execute_result"
    }
   ],
   "source": []
  },
  {
   "cell_type": "markdown",
   "metadata": {},
   "source": []
  },
  {
   "cell_type": "code",
   "execution_count": 50,
   "metadata": {},
   "outputs": [],
   "source": [
    "msk = np.random.rand(len(df_nei)) < 0.8\n",
    "train = df_nei[msk]\n",
    "test = df_nei[~msk]"
   ]
  },
  {
   "cell_type": "code",
   "execution_count": 35,
   "metadata": {},
   "outputs": [
    {
     "data": {
      "text/plain": [
       "array([4, 1, 1, 4, 1], dtype=int64)"
      ]
     },
     "execution_count": 35,
     "metadata": {},
     "output_type": "execute_result"
    }
   ],
   "source": []
  },
  {
   "cell_type": "markdown",
   "metadata": {},
   "source": [
    "## Normalize Data \n",
    "X= preprocessing.StandardScaler().fit(X).transform(X)\n",
    "X[0:5]"
   ]
  },
  {
   "cell_type": "markdown",
   "metadata": {},
   "source": [
    "# Classification "
   ]
  },
  {
   "cell_type": "code",
   "execution_count": null,
   "metadata": {
    "scrolled": true
   },
   "outputs": [],
   "source": []
  },
  {
   "cell_type": "code",
   "execution_count": 69,
   "metadata": {},
   "outputs": [
    {
     "name": "stdout",
     "output_type": "stream",
     "text": [
      "Coefficients:  [[0.00000000e+00 6.12958493e-04 3.86609421e-09]]\n",
      "Intercept:  [1.38758902]\n"
     ]
    }
   ],
   "source": [
    "# Classification \n",
    "\n",
    "from sklearn.preprocessing import PolynomialFeatures\n",
    "from sklearn import linear_model\n",
    "train_x = np.asanyarray(train[['Median Household Income']])\n",
    "train_y = np.asanyarray(train[['Competitors']])\n",
    "\n",
    "test_x = np.asanyarray(test[['Median Household Income']])\n",
    "test_y = np.asanyarray(test[['Competitors']])\n",
    "\n",
    "\n",
    "poly = PolynomialFeatures(degree=2)\n",
    "train_x_poly = poly.fit_transform(train_x)\n",
    "\n",
    "clf = linear_model.LinearRegression()\n",
    "train_y_ = clf.fit(train_x_poly, train_y)\n",
    "# The coefficients\n",
    "print ('Coefficients: ', clf.coef_)\n",
    "print ('Intercept: ',clf.intercept_)"
   ]
  },
  {
   "cell_type": "code",
   "execution_count": 70,
   "metadata": {},
   "outputs": [
    {
     "name": "stdout",
     "output_type": "stream",
     "text": [
      "Mean absolute error: 7.60\n",
      "Residual sum of squares (MSE): 112.70\n",
      "R2-score: -2.71\n"
     ]
    }
   ],
   "source": [
    "from sklearn.metrics import r2_score\n",
    "\n",
    "test_x_poly = poly.fit_transform(test_x)\n",
    "test_y_ = clf.predict(test_x_poly)\n",
    "\n",
    "print(\"Mean absolute error: %.2f\" % np.mean(np.absolute(test_y_ - test_y)))\n",
    "print(\"Residual sum of squares (MSE): %.2f\" % np.mean((test_y_ - test_y) ** 2))\n",
    "print(\"R2-score: %.2f\" % r2_score(test_y_ , test_y) )"
   ]
  },
  {
   "cell_type": "code",
   "execution_count": null,
   "metadata": {},
   "outputs": [],
   "source": []
  },
  {
   "cell_type": "code",
   "execution_count": null,
   "metadata": {},
   "outputs": [],
   "source": []
  },
  {
   "cell_type": "code",
   "execution_count": null,
   "metadata": {},
   "outputs": [],
   "source": []
  },
  {
   "cell_type": "code",
   "execution_count": null,
   "metadata": {},
   "outputs": [],
   "source": []
  },
  {
   "cell_type": "code",
   "execution_count": 56,
   "metadata": {
    "scrolled": true
   },
   "outputs": [
    {
     "data": {
      "text/plain": [
       "Text(0, 0.5, 'Competitors')"
      ]
     },
     "execution_count": 56,
     "metadata": {},
     "output_type": "execute_result"
    },
    {
     "data": {
      "image/png": "[encoded data removed]",
      "text/plain": [
       "<Figure size 432x288 with 1 Axes>"
      ]
     },
     "metadata": {},
     "output_type": "display_data"
    }
   ],
   "source": []
  },
  {
   "cell_type": "code",
   "execution_count": 71,
   "metadata": {},
   "outputs": [
    {
     "name": "stdout",
     "output_type": "stream",
     "text": [
      "Coefficients:  [[0.00000000e+00 6.12958493e-04 3.86609421e-09]]\n",
      "Intercept:  [1.38758902]\n"
     ]
    },
    {
     "data": {
      "text/plain": [
       "Text(0, 0.5, 'Competitors')"
      ]
     },
     "execution_count": 71,
     "metadata": {},
     "output_type": "execute_result"
    },
    {
     "data": {
      "image/png": "[encoded data removed]",
      "text/plain": [
       "<Figure size 432x288 with 1 Axes>"
      ]
     },
     "metadata": {},
     "output_type": "display_data"
    }
   ],
   "source": [
    "train_x = np.asanyarray(train[['Pop./km2']])\n",
    "train_y = np.asanyarray(train[['Competitors']])\n",
    "\n",
    "test_x = np.asanyarray(test[['Pop./km2']])\n",
    "test_y = np.asanyarray(test[['Competitors']])\n",
    "\n",
    "\n",
    "poly = PolynomialFeatures(degree=2)\n",
    "train_x_poly = poly.fit_transform(train_x)\n",
    "clf = linear_model.LinearRegression()\n",
    "train_y_ = clf.fit(train_x_poly, train_y)\n",
    "# The coefficients\n",
    "print ('Coefficients: ', clf.coef_)\n",
    "print ('Intercept: ',clf.intercept_)\n",
    "plt.scatter(train['Pop./km2'], train['Competitors'],  color='blue')\n",
    "XX = np.arange(0.0, 100.0, 1)\n",
    "yy = clf.intercept_[0]+ clf.coef_[0][1]*XX+ clf.coef_[0][2]*np.power(XX, 2)\n",
    "plt.plot(XX, yy, '-r' )\n",
    "plt.xlabel(\"Pop./km2\")\n",
    "plt.ylabel(\"Competitors\")"
   ]
  },
  {
   "cell_type": "code",
   "execution_count": null,
   "metadata": {},
   "outputs": [],
   "source": [
    "plt.scatter(train['Median Household Income'], train['Competitors,  color='blue')\n",
    "XX = np.arange(0.0, 10.0, 0.1)\n",
    "yy = clf.intercept_[0]+ clf.coef_[0][1]*XX+ clf.coef_[0][2]*np.power(XX, 2)\n",
    "plt.plot(XX, yy, '-r' )\n",
    "plt.xlabel(\"Median Household Income\")\n",
    "plt.ylabel(\"Competitors\")"
   ]
  },
  {
   "cell_type": "code",
   "execution_count": null,
   "metadata": {},
   "outputs": [],
   "source": []
  },
  {
   "cell_type": "code",
   "execution_count": null,
   "metadata": {},
   "outputs": [],
   "source": []
  },
  {
   "cell_type": "code",
   "execution_count": null,
   "metadata": {},
   "outputs": [],
   "source": []
  },
  {
   "cell_type": "code",
   "execution_count": null,
   "metadata": {},
   "outputs": [],
   "source": []
  },
  {
   "cell_type": "code",
   "execution_count": null,
   "metadata": {},
   "outputs": [],
   "source": []
  },
  {
   "cell_type": "code",
   "execution_count": null,
   "metadata": {},
   "outputs": [],
   "source": []
  },
  {
   "cell_type": "code",
   "execution_count": null,
   "metadata": {},
   "outputs": [],
   "source": []
  },
  {
   "cell_type": "code",
   "execution_count": 77,
   "metadata": {},
   "outputs": [
    {
     "data": {
      "text/html": [
       "<div>\n",
       "<style scoped>\n",
       "    .dataframe tbody tr th:only-of-type {\n",
       "        vertical-align: middle;\n",
       "    }\n",
       "\n",
       "    .dataframe tbody tr th {\n",
       "        vertical-align: top;\n",
       "    }\n",
       "\n",
       "    .dataframe thead th {\n",
       "        text-align: right;\n",
       "    }\n",
       "</style>\n",
       "<table border=\"1\" class=\"dataframe\">\n",
       "  <thead>\n",
       "    <tr style=\"text-align: right;\">\n",
       "      <th></th>\n",
       "      <th>Median Household Income</th>\n",
       "      <th>Pop./km2</th>\n",
       "      <th>Competitors</th>\n",
       "    </tr>\n",
       "  </thead>\n",
       "  <tbody>\n",
       "    <tr>\n",
       "      <th>count</th>\n",
       "      <td>264.000000</td>\n",
       "      <td>264.000000</td>\n",
       "      <td>264.000000</td>\n",
       "    </tr>\n",
       "    <tr>\n",
       "      <th>mean</th>\n",
       "      <td>59633.688902</td>\n",
       "      <td>13026.696469</td>\n",
       "      <td>10.268939</td>\n",
       "    </tr>\n",
       "    <tr>\n",
       "      <th>std</th>\n",
       "      <td>21780.942421</td>\n",
       "      <td>7497.225819</td>\n",
       "      <td>12.118851</td>\n",
       "    </tr>\n",
       "    <tr>\n",
       "      <th>min</th>\n",
       "      <td>20334.000000</td>\n",
       "      <td>2326.000000</td>\n",
       "      <td>1.000000</td>\n",
       "    </tr>\n",
       "    <tr>\n",
       "      <th>25%</th>\n",
       "      <td>44026.750000</td>\n",
       "      <td>8803.967071</td>\n",
       "      <td>3.000000</td>\n",
       "    </tr>\n",
       "    <tr>\n",
       "      <th>50%</th>\n",
       "      <td>57813.625000</td>\n",
       "      <td>14153.791939</td>\n",
       "      <td>5.000000</td>\n",
       "    </tr>\n",
       "    <tr>\n",
       "      <th>75%</th>\n",
       "      <td>66956.650000</td>\n",
       "      <td>14353.379074</td>\n",
       "      <td>14.000000</td>\n",
       "    </tr>\n",
       "    <tr>\n",
       "      <th>max</th>\n",
       "      <td>155213.000000</td>\n",
       "      <td>42312.000000</td>\n",
       "      <td>114.000000</td>\n",
       "    </tr>\n",
       "  </tbody>\n",
       "</table>\n",
       "</div>"
      ],
      "text/plain": [
       "       Median Household Income      Pop./km2  Competitors\n",
       "count               264.000000    264.000000   264.000000\n",
       "mean              59633.688902  13026.696469    10.268939\n",
       "std               21780.942421   7497.225819    12.118851\n",
       "min               20334.000000   2326.000000     1.000000\n",
       "25%               44026.750000   8803.967071     3.000000\n",
       "50%               57813.625000  14153.791939     5.000000\n",
       "75%               66956.650000  14353.379074    14.000000\n",
       "max              155213.000000  42312.000000   114.000000"
      ]
     },
     "execution_count": 77,
     "metadata": {},
     "output_type": "execute_result"
    }
   ],
   "source": [
    "df_nei.describe()"
   ]
  },
  {
   "cell_type": "markdown",
   "metadata": {},
   "source": [
    "Let's calculate the  Pearson Correlation Coefficient and P-value "
   ]
  },
  {
   "cell_type": "code",
   "execution_count": 39,
   "metadata": {
    "scrolled": true
   },
   "outputs": [
    {
     "name": "stdout",
     "output_type": "stream",
     "text": [
      "The Pearson Correlation Coefficient is 0.371513161405408  with a P-value of P = 4.599042577421245e-10\n"
     ]
    }
   ],
   "source": [
    "from scipy import stats\n",
    "\n",
    "#  Median Household Income VS Competitors\n",
    "\n",
    "pearson_coef, p_value = stats.pearsonr(df_nei['Median Household Income'], df_nei['Competitors'])\n",
    "print(\"The Pearson Correlation Coefficient is\", pearson_coef, \" with a P-value of P =\", p_value)  \n",
    "\n"
   ]
  },
  {
   "cell_type": "markdown",
   "metadata": {},
   "source": [
    "<h5>Conclusion:</h5>\n",
    "Since the p-value is < 0.001, the correlation between Median Household Income and Competitors is statistically significant, although the linear relationship isn't extremely strong (~0.37)"
   ]
  },
  {
   "cell_type": "code",
   "execution_count": 67,
   "metadata": {
    "scrolled": true
   },
   "outputs": [
    {
     "data": {
      "text/plain": [
       "[]"
      ]
     },
     "execution_count": 67,
     "metadata": {},
     "output_type": "execute_result"
    },
    {
     "data": {
      "image/png": "[encoded data removed]",
      "text/plain": [
       "<Figure size 432x288 with 1 Axes>"
      ]
     },
     "metadata": {},
     "output_type": "display_data"
    }
   ],
   "source": [
    "plt.scatter(df_nei['Median Household Income'], df_nei['Competitors'],  color='blue')\n",
    "plt.xlabel(\"Median Household Income\")\n",
    "plt.ylabel(\"Competitors\")\n",
    "plt.title('Median Household Income VS Competitors by Neighborhoods')\n",
    "plt.plot()"
   ]
  },
  {
   "cell_type": "markdown",
   "metadata": {},
   "source": [
    "From the plt, we can see that when the neighborhoods have a higher Median Household Income, they have more competitors.\n",
    "Let's find the neiborhoods which has Median Household Income more than 66956(75%) but Competitor less than 10(mean)."
   ]
  },
  {
   "cell_type": "code",
   "execution_count": 74,
   "metadata": {},
   "outputs": [
    {
     "data": {
      "text/html": [
       "<div>\n",
       "<style scoped>\n",
       "    .dataframe tbody tr th:only-of-type {\n",
       "        vertical-align: middle;\n",
       "    }\n",
       "\n",
       "    .dataframe tbody tr th {\n",
       "        vertical-align: top;\n",
       "    }\n",
       "\n",
       "    .dataframe thead th {\n",
       "        text-align: right;\n",
       "    }\n",
       "</style>\n",
       "<table border=\"1\" class=\"dataframe\">\n",
       "  <thead>\n",
       "    <tr style=\"text-align: right;\">\n",
       "      <th></th>\n",
       "      <th>Median Household Income</th>\n",
       "      <th>Pop./km2</th>\n",
       "      <th>Competitors</th>\n",
       "    </tr>\n",
       "    <tr>\n",
       "      <th>Neighborhood</th>\n",
       "      <th></th>\n",
       "      <th></th>\n",
       "      <th></th>\n",
       "    </tr>\n",
       "  </thead>\n",
       "  <tbody>\n",
       "    <tr>\n",
       "      <th>Allerton</th>\n",
       "      <td>37816.894737</td>\n",
       "      <td>12149.0</td>\n",
       "      <td>4</td>\n",
       "    </tr>\n",
       "    <tr>\n",
       "      <th>Annadale</th>\n",
       "      <td>66764.200000</td>\n",
       "      <td>2593.0</td>\n",
       "      <td>1</td>\n",
       "    </tr>\n",
       "    <tr>\n",
       "      <th>Arlington</th>\n",
       "      <td>66764.200000</td>\n",
       "      <td>4440.0</td>\n",
       "      <td>1</td>\n",
       "    </tr>\n",
       "    <tr>\n",
       "      <th>Arrochar</th>\n",
       "      <td>66764.200000</td>\n",
       "      <td>2326.0</td>\n",
       "      <td>4</td>\n",
       "    </tr>\n",
       "    <tr>\n",
       "      <th>Arverne</th>\n",
       "      <td>39432.000000</td>\n",
       "      <td>4583.0</td>\n",
       "      <td>1</td>\n",
       "    </tr>\n",
       "  </tbody>\n",
       "</table>\n",
       "</div>"
      ],
      "text/plain": [
       "              Median Household Income  Pop./km2  Competitors\n",
       "Neighborhood                                                \n",
       "Allerton                 37816.894737   12149.0            4\n",
       "Annadale                 66764.200000    2593.0            1\n",
       "Arlington                66764.200000    4440.0            1\n",
       "Arrochar                 66764.200000    2326.0            4\n",
       "Arverne                  39432.000000    4583.0            1"
      ]
     },
     "execution_count": 74,
     "metadata": {},
     "output_type": "execute_result"
    }
   ],
   "source": [
    "df_nei.head()"
   ]
  },
  {
   "cell_type": "code",
   "execution_count": 118,
   "metadata": {},
   "outputs": [
    {
     "data": {
      "text/html": [
       "<div>\n",
       "<style scoped>\n",
       "    .dataframe tbody tr th:only-of-type {\n",
       "        vertical-align: middle;\n",
       "    }\n",
       "\n",
       "    .dataframe tbody tr th {\n",
       "        vertical-align: top;\n",
       "    }\n",
       "\n",
       "    .dataframe thead th {\n",
       "        text-align: right;\n",
       "    }\n",
       "</style>\n",
       "<table border=\"1\" class=\"dataframe\">\n",
       "  <thead>\n",
       "    <tr style=\"text-align: right;\">\n",
       "      <th></th>\n",
       "      <th>Median Household Income</th>\n",
       "      <th>Pop./km2</th>\n",
       "      <th>Competitors</th>\n",
       "      <th>MHI&gt;66956</th>\n",
       "      <th>Com&lt;10</th>\n",
       "    </tr>\n",
       "    <tr>\n",
       "      <th>Neighborhood</th>\n",
       "      <th></th>\n",
       "      <th></th>\n",
       "      <th></th>\n",
       "      <th></th>\n",
       "      <th></th>\n",
       "    </tr>\n",
       "  </thead>\n",
       "  <tbody>\n",
       "    <tr>\n",
       "      <th>Allerton</th>\n",
       "      <td>37816.894737</td>\n",
       "      <td>12149.0</td>\n",
       "      <td>4</td>\n",
       "      <td>0.0</td>\n",
       "      <td>4</td>\n",
       "    </tr>\n",
       "    <tr>\n",
       "      <th>Annadale</th>\n",
       "      <td>66764.200000</td>\n",
       "      <td>2593.0</td>\n",
       "      <td>1</td>\n",
       "      <td>0.0</td>\n",
       "      <td>1</td>\n",
       "    </tr>\n",
       "    <tr>\n",
       "      <th>Arlington</th>\n",
       "      <td>66764.200000</td>\n",
       "      <td>4440.0</td>\n",
       "      <td>1</td>\n",
       "      <td>0.0</td>\n",
       "      <td>1</td>\n",
       "    </tr>\n",
       "    <tr>\n",
       "      <th>Arrochar</th>\n",
       "      <td>66764.200000</td>\n",
       "      <td>2326.0</td>\n",
       "      <td>4</td>\n",
       "      <td>0.0</td>\n",
       "      <td>4</td>\n",
       "    </tr>\n",
       "    <tr>\n",
       "      <th>Arverne</th>\n",
       "      <td>39432.000000</td>\n",
       "      <td>4583.0</td>\n",
       "      <td>1</td>\n",
       "      <td>0.0</td>\n",
       "      <td>1</td>\n",
       "    </tr>\n",
       "  </tbody>\n",
       "</table>\n",
       "</div>"
      ],
      "text/plain": [
       "              Median Household Income  Pop./km2  Competitors  MHI>66956  \\\n",
       "Neighborhood                                                              \n",
       "Allerton                 37816.894737   12149.0            4        0.0   \n",
       "Annadale                 66764.200000    2593.0            1        0.0   \n",
       "Arlington                66764.200000    4440.0            1        0.0   \n",
       "Arrochar                 66764.200000    2326.0            4        0.0   \n",
       "Arverne                  39432.000000    4583.0            1        0.0   \n",
       "\n",
       "              Com<10  \n",
       "Neighborhood          \n",
       "Allerton           4  \n",
       "Annadale           1  \n",
       "Arlington          1  \n",
       "Arrochar           4  \n",
       "Arverne            1  "
      ]
     },
     "execution_count": 118,
     "metadata": {},
     "output_type": "execute_result"
    }
   ],
   "source": [
    "df_nei['MHI>66956']=df_nei['Median Household Income'].apply(lambda x: x if x>66956 else 0 )\n",
    "df_nei['Com<10']=df_nei['Competitors'].apply(lambda x: x if x<10 else 0)\n",
    "df_nei.head()"
   ]
  },
  {
   "cell_type": "code",
   "execution_count": null,
   "metadata": {
    "scrolled": true
   },
   "outputs": [],
   "source": []
  },
  {
   "cell_type": "code",
   "execution_count": null,
   "metadata": {},
   "outputs": [],
   "source": []
  },
  {
   "cell_type": "code",
   "execution_count": 41,
   "metadata": {},
   "outputs": [
    {
     "name": "stdout",
     "output_type": "stream",
     "text": [
      "The Pearson Correlation Coefficient is 0.42053101706154067  with a P-value of P = 9.755032017842224e-13\n"
     ]
    }
   ],
   "source": [
    "\n",
    "#  Median Household Income VS Competitors\n",
    "\n",
    "pearson_coef, p_value = stats.pearsonr(df_nei['Pop./km2'], df_nei['Competitors'])\n",
    "print(\"The Pearson Correlation Coefficient is\", pearson_coef, \" with a P-value of P =\", p_value)  \n"
   ]
  },
  {
   "cell_type": "markdown",
   "metadata": {},
   "source": [
    "<h5>Conclusion:</h5>\n",
    "Since the p-value is < 0.001, the correlation between wheel-base and price is statistically significant, although the linear relationship isn't extremely strong (~0.42).\n",
    "Let's find the neiborhoods which has Median Household Income more than 66956(75%) but Competitor less than 10(mean)."
   ]
  },
  {
   "cell_type": "code",
   "execution_count": 63,
   "metadata": {
    "scrolled": true
   },
   "outputs": [
    {
     "data": {
      "text/plain": [
       "[]"
      ]
     },
     "execution_count": 63,
     "metadata": {},
     "output_type": "execute_result"
    },
    {
     "data": {
      "image/png": "[encoded data removed]",
      "text/plain": [
       "<Figure size 432x288 with 1 Axes>"
      ]
     },
     "metadata": {},
     "output_type": "display_data"
    }
   ],
   "source": [
    "plt.scatter(df_nei['Pop./km2'], df_nei['Competitors'],  color='blue')\n",
    "plt.xlabel(\"Pop./km2\")\n",
    "plt.ylabel(\"Competitors\")\n",
    "plt.title('Population density VS Competitors by Neighborhoods')\n",
    "plt.plot()"
   ]
  },
  {
   "cell_type": "code",
   "execution_count": null,
   "metadata": {},
   "outputs": [],
   "source": [
    "Let's find the neiborhoods which has Population desity more than 14353(75%) but Competitors less than 10(mean)."
   ]
  },
  {
   "cell_type": "code",
   "execution_count": 119,
   "metadata": {},
   "outputs": [
    {
     "data": {
      "text/html": [
       "<div>\n",
       "<style scoped>\n",
       "    .dataframe tbody tr th:only-of-type {\n",
       "        vertical-align: middle;\n",
       "    }\n",
       "\n",
       "    .dataframe tbody tr th {\n",
       "        vertical-align: top;\n",
       "    }\n",
       "\n",
       "    .dataframe thead th {\n",
       "        text-align: right;\n",
       "    }\n",
       "</style>\n",
       "<table border=\"1\" class=\"dataframe\">\n",
       "  <thead>\n",
       "    <tr style=\"text-align: right;\">\n",
       "      <th></th>\n",
       "      <th>Median Household Income</th>\n",
       "      <th>Pop./km2</th>\n",
       "      <th>Competitors</th>\n",
       "      <th>MHI&gt;66956</th>\n",
       "      <th>Com&lt;10</th>\n",
       "      <th>Pop&gt;14353</th>\n",
       "      <th>Com2&lt;10</th>\n",
       "    </tr>\n",
       "    <tr>\n",
       "      <th>Neighborhood</th>\n",
       "      <th></th>\n",
       "      <th></th>\n",
       "      <th></th>\n",
       "      <th></th>\n",
       "      <th></th>\n",
       "      <th></th>\n",
       "      <th></th>\n",
       "    </tr>\n",
       "  </thead>\n",
       "  <tbody>\n",
       "    <tr>\n",
       "      <th>Allerton</th>\n",
       "      <td>37816.894737</td>\n",
       "      <td>12149.0</td>\n",
       "      <td>4</td>\n",
       "      <td>0.0</td>\n",
       "      <td>4</td>\n",
       "      <td>0.0</td>\n",
       "      <td>4</td>\n",
       "    </tr>\n",
       "    <tr>\n",
       "      <th>Annadale</th>\n",
       "      <td>66764.200000</td>\n",
       "      <td>2593.0</td>\n",
       "      <td>1</td>\n",
       "      <td>0.0</td>\n",
       "      <td>1</td>\n",
       "      <td>0.0</td>\n",
       "      <td>1</td>\n",
       "    </tr>\n",
       "    <tr>\n",
       "      <th>Arlington</th>\n",
       "      <td>66764.200000</td>\n",
       "      <td>4440.0</td>\n",
       "      <td>1</td>\n",
       "      <td>0.0</td>\n",
       "      <td>1</td>\n",
       "      <td>0.0</td>\n",
       "      <td>1</td>\n",
       "    </tr>\n",
       "    <tr>\n",
       "      <th>Arrochar</th>\n",
       "      <td>66764.200000</td>\n",
       "      <td>2326.0</td>\n",
       "      <td>4</td>\n",
       "      <td>0.0</td>\n",
       "      <td>4</td>\n",
       "      <td>0.0</td>\n",
       "      <td>4</td>\n",
       "    </tr>\n",
       "    <tr>\n",
       "      <th>Arverne</th>\n",
       "      <td>39432.000000</td>\n",
       "      <td>4583.0</td>\n",
       "      <td>1</td>\n",
       "      <td>0.0</td>\n",
       "      <td>1</td>\n",
       "      <td>0.0</td>\n",
       "      <td>1</td>\n",
       "    </tr>\n",
       "  </tbody>\n",
       "</table>\n",
       "</div>"
      ],
      "text/plain": [
       "              Median Household Income  Pop./km2  Competitors  MHI>66956  \\\n",
       "Neighborhood                                                              \n",
       "Allerton                 37816.894737   12149.0            4        0.0   \n",
       "Annadale                 66764.200000    2593.0            1        0.0   \n",
       "Arlington                66764.200000    4440.0            1        0.0   \n",
       "Arrochar                 66764.200000    2326.0            4        0.0   \n",
       "Arverne                  39432.000000    4583.0            1        0.0   \n",
       "\n",
       "              Com<10  Pop>14353  Com2<10  \n",
       "Neighborhood                              \n",
       "Allerton           4        0.0        4  \n",
       "Annadale           1        0.0        1  \n",
       "Arlington          1        0.0        1  \n",
       "Arrochar           4        0.0        4  \n",
       "Arverne            1        0.0        1  "
      ]
     },
     "execution_count": 119,
     "metadata": {},
     "output_type": "execute_result"
    }
   ],
   "source": [
    "df_nei['Pop>14353']=df_nei['Pop./km2'].apply(lambda x: x if x>14353 else 0 )\n",
    "df_nei['Com2<10']=df_nei['Competitors'].apply(lambda x: x if x<10 else 0)\n",
    "df_nei.head()"
   ]
  },
  {
   "cell_type": "code",
   "execution_count": 128,
   "metadata": {
    "scrolled": true
   },
   "outputs": [
    {
     "data": {
      "text/html": [
       "<div>\n",
       "<style scoped>\n",
       "    .dataframe tbody tr th:only-of-type {\n",
       "        vertical-align: middle;\n",
       "    }\n",
       "\n",
       "    .dataframe tbody tr th {\n",
       "        vertical-align: top;\n",
       "    }\n",
       "\n",
       "    .dataframe thead th {\n",
       "        text-align: right;\n",
       "    }\n",
       "</style>\n",
       "<table border=\"1\" class=\"dataframe\">\n",
       "  <thead>\n",
       "    <tr style=\"text-align: right;\">\n",
       "      <th></th>\n",
       "      <th>Neighborhood</th>\n",
       "      <th>MHI&gt;66956</th>\n",
       "      <th>Com&lt;10</th>\n",
       "      <th>Pop&gt;14353</th>\n",
       "    </tr>\n",
       "  </thead>\n",
       "  <tbody>\n",
       "    <tr>\n",
       "      <th>0</th>\n",
       "      <td>Edgewater Park</td>\n",
       "      <td>67549.0</td>\n",
       "      <td>8</td>\n",
       "      <td>14353.379074</td>\n",
       "    </tr>\n",
       "    <tr>\n",
       "      <th>1</th>\n",
       "      <td>Forest Hills</td>\n",
       "      <td>67881.0</td>\n",
       "      <td>6</td>\n",
       "      <td>15279.000000</td>\n",
       "    </tr>\n",
       "    <tr>\n",
       "      <th>2</th>\n",
       "      <td>North Riverdale</td>\n",
       "      <td>78895.0</td>\n",
       "      <td>5</td>\n",
       "      <td>14353.379074</td>\n",
       "    </tr>\n",
       "    <tr>\n",
       "      <th>3</th>\n",
       "      <td>Roosevelt Island</td>\n",
       "      <td>98797.0</td>\n",
       "      <td>2</td>\n",
       "      <td>26482.390996</td>\n",
       "    </tr>\n",
       "    <tr>\n",
       "      <th>4</th>\n",
       "      <td>Schuylerville</td>\n",
       "      <td>67549.0</td>\n",
       "      <td>5</td>\n",
       "      <td>14353.379074</td>\n",
       "    </tr>\n",
       "    <tr>\n",
       "      <th>5</th>\n",
       "      <td>Spuyten Duyvil</td>\n",
       "      <td>67534.0</td>\n",
       "      <td>1</td>\n",
       "      <td>14353.379074</td>\n",
       "    </tr>\n",
       "    <tr>\n",
       "      <th>6</th>\n",
       "      <td>Throgs Neck</td>\n",
       "      <td>67549.0</td>\n",
       "      <td>4</td>\n",
       "      <td>14353.379074</td>\n",
       "    </tr>\n",
       "  </tbody>\n",
       "</table>\n",
       "</div>"
      ],
      "text/plain": [
       "       Neighborhood  MHI>66956  Com<10     Pop>14353\n",
       "0    Edgewater Park    67549.0       8  14353.379074\n",
       "1      Forest Hills    67881.0       6  15279.000000\n",
       "2   North Riverdale    78895.0       5  14353.379074\n",
       "3  Roosevelt Island    98797.0       2  26482.390996\n",
       "4     Schuylerville    67549.0       5  14353.379074\n",
       "5    Spuyten Duyvil    67534.0       1  14353.379074\n",
       "6       Throgs Neck    67549.0       4  14353.379074"
      ]
     },
     "execution_count": 128,
     "metadata": {},
     "output_type": "execute_result"
    }
   ],
   "source": [
    "df1=df_nei.loc[df_nei['MHI>66956']!=0]\n",
    "df1=df1.loc[df1['Com<10']!=0]\n",
    "df1=df1.loc[df1['Pop>14353']!=0]\n",
    "df1=df1.loc[df1['Com2<10']!=0]\n",
    "df1.drop(['Median Household Income','Pop./km2','Competitors','Com2<10'], axis=1, inplace=True)\n",
    "df1.reset_index(inplace=True)\n",
    "df1"
   ]
  },
  {
   "cell_type": "code",
   "execution_count": null,
   "metadata": {},
   "outputs": [],
   "source": []
  },
  {
   "cell_type": "code",
   "execution_count": null,
   "metadata": {},
   "outputs": [],
   "source": []
  },
  {
   "cell_type": "code",
   "execution_count": 142,
   "metadata": {},
   "outputs": [
    {
     "data": {
      "text/html": [
       "<div>\n",
       "<style scoped>\n",
       "    .dataframe tbody tr th:only-of-type {\n",
       "        vertical-align: middle;\n",
       "    }\n",
       "\n",
       "    .dataframe tbody tr th {\n",
       "        vertical-align: top;\n",
       "    }\n",
       "\n",
       "    .dataframe thead th {\n",
       "        text-align: right;\n",
       "    }\n",
       "</style>\n",
       "<table border=\"1\" class=\"dataframe\">\n",
       "  <thead>\n",
       "    <tr style=\"text-align: right;\">\n",
       "      <th></th>\n",
       "      <th>Restaurant name</th>\n",
       "      <th>Neighborhood</th>\n",
       "      <th>Borough</th>\n",
       "      <th>Median Household Income</th>\n",
       "      <th>Neighborhood Latitude</th>\n",
       "      <th>Neighborhood Longitude</th>\n",
       "      <th>Pop./km2</th>\n",
       "      <th>Venue Category</th>\n",
       "      <th>Venue Latitude</th>\n",
       "      <th>Venue Longitude</th>\n",
       "      <th>Competitors</th>\n",
       "    </tr>\n",
       "  </thead>\n",
       "  <tbody>\n",
       "    <tr>\n",
       "      <th>0</th>\n",
       "      <td>Muscle Maker Grill_1421</td>\n",
       "      <td>Edgewater Park</td>\n",
       "      <td>Bronx</td>\n",
       "      <td>67549.0</td>\n",
       "      <td>40.821986</td>\n",
       "      <td>-73.813885</td>\n",
       "      <td>14353.379074</td>\n",
       "      <td>American Restaurant</td>\n",
       "      <td>40.819391</td>\n",
       "      <td>-73.817298</td>\n",
       "      <td>8</td>\n",
       "    </tr>\n",
       "    <tr>\n",
       "      <th>1</th>\n",
       "      <td>Patricia's of Tremont_1422</td>\n",
       "      <td>Edgewater Park</td>\n",
       "      <td>Bronx</td>\n",
       "      <td>67549.0</td>\n",
       "      <td>40.821986</td>\n",
       "      <td>-73.813885</td>\n",
       "      <td>14353.379074</td>\n",
       "      <td>Italian Restaurant</td>\n",
       "      <td>40.823119</td>\n",
       "      <td>-73.819403</td>\n",
       "      <td>8</td>\n",
       "    </tr>\n",
       "    <tr>\n",
       "      <th>2</th>\n",
       "      <td>Green Dragon_1423</td>\n",
       "      <td>Edgewater Park</td>\n",
       "      <td>Bronx</td>\n",
       "      <td>67549.0</td>\n",
       "      <td>40.821986</td>\n",
       "      <td>-73.813885</td>\n",
       "      <td>14353.379074</td>\n",
       "      <td>Asian Restaurant</td>\n",
       "      <td>40.818878</td>\n",
       "      <td>-73.816793</td>\n",
       "      <td>8</td>\n",
       "    </tr>\n",
       "    <tr>\n",
       "      <th>3</th>\n",
       "      <td>Tosca Marquee_1424</td>\n",
       "      <td>Edgewater Park</td>\n",
       "      <td>Bronx</td>\n",
       "      <td>67549.0</td>\n",
       "      <td>40.821986</td>\n",
       "      <td>-73.813885</td>\n",
       "      <td>14353.379074</td>\n",
       "      <td>Italian Restaurant</td>\n",
       "      <td>40.819222</td>\n",
       "      <td>-73.817601</td>\n",
       "      <td>8</td>\n",
       "    </tr>\n",
       "    <tr>\n",
       "      <th>4</th>\n",
       "      <td>Spoto's Italian Restaurant_1425</td>\n",
       "      <td>Edgewater Park</td>\n",
       "      <td>Bronx</td>\n",
       "      <td>67549.0</td>\n",
       "      <td>40.821986</td>\n",
       "      <td>-73.813885</td>\n",
       "      <td>14353.379074</td>\n",
       "      <td>Italian Restaurant</td>\n",
       "      <td>40.820399</td>\n",
       "      <td>-73.817702</td>\n",
       "      <td>8</td>\n",
       "    </tr>\n",
       "    <tr>\n",
       "      <th>5</th>\n",
       "      <td>Rino's Italian Restaurant_1426</td>\n",
       "      <td>Edgewater Park</td>\n",
       "      <td>Bronx</td>\n",
       "      <td>67549.0</td>\n",
       "      <td>40.821986</td>\n",
       "      <td>-73.813885</td>\n",
       "      <td>14353.379074</td>\n",
       "      <td>Italian Restaurant</td>\n",
       "      <td>40.821231</td>\n",
       "      <td>-73.818743</td>\n",
       "      <td>8</td>\n",
       "    </tr>\n",
       "    <tr>\n",
       "      <th>6</th>\n",
       "      <td>Throgs Neck Fried Chicken_1427</td>\n",
       "      <td>Edgewater Park</td>\n",
       "      <td>Bronx</td>\n",
       "      <td>67549.0</td>\n",
       "      <td>40.821986</td>\n",
       "      <td>-73.813885</td>\n",
       "      <td>14353.379074</td>\n",
       "      <td>Fast Food Restaurant</td>\n",
       "      <td>40.820301</td>\n",
       "      <td>-73.817791</td>\n",
       "      <td>8</td>\n",
       "    </tr>\n",
       "    <tr>\n",
       "      <th>7</th>\n",
       "      <td>Xing hui linda_1428</td>\n",
       "      <td>Edgewater Park</td>\n",
       "      <td>Bronx</td>\n",
       "      <td>67549.0</td>\n",
       "      <td>40.821986</td>\n",
       "      <td>-73.813885</td>\n",
       "      <td>14353.379074</td>\n",
       "      <td>Chinese Restaurant</td>\n",
       "      <td>40.820322</td>\n",
       "      <td>-73.818159</td>\n",
       "      <td>8</td>\n",
       "    </tr>\n",
       "    <tr>\n",
       "      <th>8</th>\n",
       "      <td>Bangkok Cuisine_1497</td>\n",
       "      <td>Forest Hills</td>\n",
       "      <td>Queens</td>\n",
       "      <td>67881.0</td>\n",
       "      <td>40.725264</td>\n",
       "      <td>-73.844475</td>\n",
       "      <td>15279.000000</td>\n",
       "      <td>Thai Restaurant</td>\n",
       "      <td>40.721062</td>\n",
       "      <td>-73.845432</td>\n",
       "      <td>6</td>\n",
       "    </tr>\n",
       "    <tr>\n",
       "      <th>9</th>\n",
       "      <td>Great Wall Chinese Restaurant_1498</td>\n",
       "      <td>Forest Hills</td>\n",
       "      <td>Queens</td>\n",
       "      <td>67881.0</td>\n",
       "      <td>40.725264</td>\n",
       "      <td>-73.844475</td>\n",
       "      <td>15279.000000</td>\n",
       "      <td>Chinese Restaurant</td>\n",
       "      <td>40.723596</td>\n",
       "      <td>-73.847968</td>\n",
       "      <td>6</td>\n",
       "    </tr>\n",
       "    <tr>\n",
       "      <th>10</th>\n",
       "      <td>Tu Casa Restaurant_1499</td>\n",
       "      <td>Forest Hills</td>\n",
       "      <td>Queens</td>\n",
       "      <td>67881.0</td>\n",
       "      <td>40.725264</td>\n",
       "      <td>-73.844475</td>\n",
       "      <td>15279.000000</td>\n",
       "      <td>Peruvian Restaurant</td>\n",
       "      <td>40.724682</td>\n",
       "      <td>-73.850005</td>\n",
       "      <td>6</td>\n",
       "    </tr>\n",
       "    <tr>\n",
       "      <th>11</th>\n",
       "      <td>MoCA Asian Bistro_1500</td>\n",
       "      <td>Forest Hills</td>\n",
       "      <td>Queens</td>\n",
       "      <td>67881.0</td>\n",
       "      <td>40.725264</td>\n",
       "      <td>-73.844475</td>\n",
       "      <td>15279.000000</td>\n",
       "      <td>Asian Restaurant</td>\n",
       "      <td>40.720983</td>\n",
       "      <td>-73.845436</td>\n",
       "      <td>6</td>\n",
       "    </tr>\n",
       "    <tr>\n",
       "      <th>12</th>\n",
       "      <td>Thai Pot_1501</td>\n",
       "      <td>Forest Hills</td>\n",
       "      <td>Queens</td>\n",
       "      <td>67881.0</td>\n",
       "      <td>40.725264</td>\n",
       "      <td>-73.844475</td>\n",
       "      <td>15279.000000</td>\n",
       "      <td>Thai Restaurant</td>\n",
       "      <td>40.724720</td>\n",
       "      <td>-73.850013</td>\n",
       "      <td>6</td>\n",
       "    </tr>\n",
       "    <tr>\n",
       "      <th>13</th>\n",
       "      <td>Numero 28_1502</td>\n",
       "      <td>Forest Hills</td>\n",
       "      <td>Queens</td>\n",
       "      <td>67881.0</td>\n",
       "      <td>40.725264</td>\n",
       "      <td>-73.844475</td>\n",
       "      <td>15279.000000</td>\n",
       "      <td>Italian Restaurant</td>\n",
       "      <td>40.720853</td>\n",
       "      <td>-73.845614</td>\n",
       "      <td>6</td>\n",
       "    </tr>\n",
       "    <tr>\n",
       "      <th>14</th>\n",
       "      <td>Tokyo House_2154</td>\n",
       "      <td>North Riverdale</td>\n",
       "      <td>Bronx</td>\n",
       "      <td>78895.0</td>\n",
       "      <td>40.908543</td>\n",
       "      <td>-73.904531</td>\n",
       "      <td>14353.379074</td>\n",
       "      <td>Sushi Restaurant</td>\n",
       "      <td>40.905672</td>\n",
       "      <td>-73.904309</td>\n",
       "      <td>5</td>\n",
       "    </tr>\n",
       "    <tr>\n",
       "      <th>15</th>\n",
       "      <td>Carlos &amp; Gabby's - Riverdale_2155</td>\n",
       "      <td>North Riverdale</td>\n",
       "      <td>Bronx</td>\n",
       "      <td>78895.0</td>\n",
       "      <td>40.908543</td>\n",
       "      <td>-73.904531</td>\n",
       "      <td>14353.379074</td>\n",
       "      <td>Mexican Restaurant</td>\n",
       "      <td>40.906566</td>\n",
       "      <td>-73.904397</td>\n",
       "      <td>5</td>\n",
       "    </tr>\n",
       "    <tr>\n",
       "      <th>16</th>\n",
       "      <td>Beccofino_2156</td>\n",
       "      <td>North Riverdale</td>\n",
       "      <td>Bronx</td>\n",
       "      <td>78895.0</td>\n",
       "      <td>40.908543</td>\n",
       "      <td>-73.904531</td>\n",
       "      <td>14353.379074</td>\n",
       "      <td>Italian Restaurant</td>\n",
       "      <td>40.905467</td>\n",
       "      <td>-73.900423</td>\n",
       "      <td>5</td>\n",
       "    </tr>\n",
       "    <tr>\n",
       "      <th>17</th>\n",
       "      <td>Madison's_2157</td>\n",
       "      <td>North Riverdale</td>\n",
       "      <td>Bronx</td>\n",
       "      <td>78895.0</td>\n",
       "      <td>40.908543</td>\n",
       "      <td>-73.904531</td>\n",
       "      <td>14353.379074</td>\n",
       "      <td>Italian Restaurant</td>\n",
       "      <td>40.906483</td>\n",
       "      <td>-73.903965</td>\n",
       "      <td>5</td>\n",
       "    </tr>\n",
       "    <tr>\n",
       "      <th>18</th>\n",
       "      <td>Golden Phoenix Chinese Restaurant_2158</td>\n",
       "      <td>North Riverdale</td>\n",
       "      <td>Bronx</td>\n",
       "      <td>78895.0</td>\n",
       "      <td>40.908543</td>\n",
       "      <td>-73.904531</td>\n",
       "      <td>14353.379074</td>\n",
       "      <td>Chinese Restaurant</td>\n",
       "      <td>40.905689</td>\n",
       "      <td>-73.904298</td>\n",
       "      <td>5</td>\n",
       "    </tr>\n",
       "    <tr>\n",
       "      <th>19</th>\n",
       "      <td>NISI_2342</td>\n",
       "      <td>Roosevelt Island</td>\n",
       "      <td>Manhattan</td>\n",
       "      <td>98797.0</td>\n",
       "      <td>40.762160</td>\n",
       "      <td>-73.949168</td>\n",
       "      <td>26482.390996</td>\n",
       "      <td>Greek Restaurant</td>\n",
       "      <td>40.761915</td>\n",
       "      <td>-73.949966</td>\n",
       "      <td>2</td>\n",
       "    </tr>\n",
       "    <tr>\n",
       "      <th>20</th>\n",
       "      <td>Fuji East_2343</td>\n",
       "      <td>Roosevelt Island</td>\n",
       "      <td>Manhattan</td>\n",
       "      <td>98797.0</td>\n",
       "      <td>40.762160</td>\n",
       "      <td>-73.949168</td>\n",
       "      <td>26482.390996</td>\n",
       "      <td>Japanese Restaurant</td>\n",
       "      <td>40.758966</td>\n",
       "      <td>-73.952441</td>\n",
       "      <td>2</td>\n",
       "    </tr>\n",
       "    <tr>\n",
       "      <th>21</th>\n",
       "      <td>Cabo_2356</td>\n",
       "      <td>Schuylerville</td>\n",
       "      <td>Bronx</td>\n",
       "      <td>67549.0</td>\n",
       "      <td>40.826580</td>\n",
       "      <td>-73.826203</td>\n",
       "      <td>14353.379074</td>\n",
       "      <td>Mexican Restaurant</td>\n",
       "      <td>40.825960</td>\n",
       "      <td>-73.821352</td>\n",
       "      <td>5</td>\n",
       "    </tr>\n",
       "    <tr>\n",
       "      <th>22</th>\n",
       "      <td>Legendary Bar and Restaurant_2357</td>\n",
       "      <td>Schuylerville</td>\n",
       "      <td>Bronx</td>\n",
       "      <td>67549.0</td>\n",
       "      <td>40.826580</td>\n",
       "      <td>-73.826203</td>\n",
       "      <td>14353.379074</td>\n",
       "      <td>American Restaurant</td>\n",
       "      <td>40.830862</td>\n",
       "      <td>-73.826386</td>\n",
       "      <td>5</td>\n",
       "    </tr>\n",
       "    <tr>\n",
       "      <th>23</th>\n",
       "      <td>Taqueria Lupita_2358</td>\n",
       "      <td>Schuylerville</td>\n",
       "      <td>Bronx</td>\n",
       "      <td>67549.0</td>\n",
       "      <td>40.826580</td>\n",
       "      <td>-73.826203</td>\n",
       "      <td>14353.379074</td>\n",
       "      <td>Mexican Restaurant</td>\n",
       "      <td>40.829203</td>\n",
       "      <td>-73.826892</td>\n",
       "      <td>5</td>\n",
       "    </tr>\n",
       "    <tr>\n",
       "      <th>24</th>\n",
       "      <td>McDonald's_2359</td>\n",
       "      <td>Schuylerville</td>\n",
       "      <td>Bronx</td>\n",
       "      <td>67549.0</td>\n",
       "      <td>40.826580</td>\n",
       "      <td>-73.826203</td>\n",
       "      <td>14353.379074</td>\n",
       "      <td>Fast Food Restaurant</td>\n",
       "      <td>40.827600</td>\n",
       "      <td>-73.823641</td>\n",
       "      <td>5</td>\n",
       "    </tr>\n",
       "    <tr>\n",
       "      <th>25</th>\n",
       "      <td>Kim's Chinese and Sushi_2360</td>\n",
       "      <td>Schuylerville</td>\n",
       "      <td>Bronx</td>\n",
       "      <td>67549.0</td>\n",
       "      <td>40.826580</td>\n",
       "      <td>-73.826203</td>\n",
       "      <td>14353.379074</td>\n",
       "      <td>Sushi Restaurant</td>\n",
       "      <td>40.826917</td>\n",
       "      <td>-73.822714</td>\n",
       "      <td>5</td>\n",
       "    </tr>\n",
       "    <tr>\n",
       "      <th>26</th>\n",
       "      <td>Siam Square_2405</td>\n",
       "      <td>Spuyten Duyvil</td>\n",
       "      <td>Bronx</td>\n",
       "      <td>67534.0</td>\n",
       "      <td>40.881395</td>\n",
       "      <td>-73.917190</td>\n",
       "      <td>14353.379074</td>\n",
       "      <td>Thai Restaurant</td>\n",
       "      <td>40.878796</td>\n",
       "      <td>-73.916701</td>\n",
       "      <td>1</td>\n",
       "    </tr>\n",
       "    <tr>\n",
       "      <th>27</th>\n",
       "      <td>Muscle Maker Grill_2460</td>\n",
       "      <td>Throgs Neck</td>\n",
       "      <td>Bronx</td>\n",
       "      <td>67549.0</td>\n",
       "      <td>40.815109</td>\n",
       "      <td>-73.816350</td>\n",
       "      <td>14353.379074</td>\n",
       "      <td>American Restaurant</td>\n",
       "      <td>40.819391</td>\n",
       "      <td>-73.817298</td>\n",
       "      <td>4</td>\n",
       "    </tr>\n",
       "    <tr>\n",
       "      <th>28</th>\n",
       "      <td>Green Dragon_2461</td>\n",
       "      <td>Throgs Neck</td>\n",
       "      <td>Bronx</td>\n",
       "      <td>67549.0</td>\n",
       "      <td>40.815109</td>\n",
       "      <td>-73.816350</td>\n",
       "      <td>14353.379074</td>\n",
       "      <td>Asian Restaurant</td>\n",
       "      <td>40.818878</td>\n",
       "      <td>-73.816793</td>\n",
       "      <td>4</td>\n",
       "    </tr>\n",
       "    <tr>\n",
       "      <th>29</th>\n",
       "      <td>Tosca Marquee_2462</td>\n",
       "      <td>Throgs Neck</td>\n",
       "      <td>Bronx</td>\n",
       "      <td>67549.0</td>\n",
       "      <td>40.815109</td>\n",
       "      <td>-73.816350</td>\n",
       "      <td>14353.379074</td>\n",
       "      <td>Italian Restaurant</td>\n",
       "      <td>40.819222</td>\n",
       "      <td>-73.817601</td>\n",
       "      <td>4</td>\n",
       "    </tr>\n",
       "    <tr>\n",
       "      <th>30</th>\n",
       "      <td>Hawaii Chinese Kitchen_2463</td>\n",
       "      <td>Throgs Neck</td>\n",
       "      <td>Bronx</td>\n",
       "      <td>67549.0</td>\n",
       "      <td>40.815109</td>\n",
       "      <td>-73.816350</td>\n",
       "      <td>14353.379074</td>\n",
       "      <td>Chinese Restaurant</td>\n",
       "      <td>40.818633</td>\n",
       "      <td>-73.816873</td>\n",
       "      <td>4</td>\n",
       "    </tr>\n",
       "  </tbody>\n",
       "</table>\n",
       "</div>"
      ],
      "text/plain": [
       "                           Restaurant name      Neighborhood    Borough  \\\n",
       "0                  Muscle Maker Grill_1421    Edgewater Park      Bronx   \n",
       "1               Patricia's of Tremont_1422    Edgewater Park      Bronx   \n",
       "2                        Green Dragon_1423    Edgewater Park      Bronx   \n",
       "3                       Tosca Marquee_1424    Edgewater Park      Bronx   \n",
       "4          Spoto's Italian Restaurant_1425    Edgewater Park      Bronx   \n",
       "5           Rino's Italian Restaurant_1426    Edgewater Park      Bronx   \n",
       "6           Throgs Neck Fried Chicken_1427    Edgewater Park      Bronx   \n",
       "7                      Xing hui linda_1428    Edgewater Park      Bronx   \n",
       "8                     Bangkok Cuisine_1497      Forest Hills     Queens   \n",
       "9       Great Wall Chinese Restaurant_1498      Forest Hills     Queens   \n",
       "10                 Tu Casa Restaurant_1499      Forest Hills     Queens   \n",
       "11                  MoCA Asian Bistro_1500      Forest Hills     Queens   \n",
       "12                           Thai Pot_1501      Forest Hills     Queens   \n",
       "13                          Numero 28_1502      Forest Hills     Queens   \n",
       "14                        Tokyo House_2154   North Riverdale      Bronx   \n",
       "15       Carlos & Gabby's - Riverdale_2155   North Riverdale      Bronx   \n",
       "16                          Beccofino_2156   North Riverdale      Bronx   \n",
       "17                          Madison's_2157   North Riverdale      Bronx   \n",
       "18  Golden Phoenix Chinese Restaurant_2158   North Riverdale      Bronx   \n",
       "19                               NISI_2342  Roosevelt Island  Manhattan   \n",
       "20                          Fuji East_2343  Roosevelt Island  Manhattan   \n",
       "21                               Cabo_2356     Schuylerville      Bronx   \n",
       "22       Legendary Bar and Restaurant_2357     Schuylerville      Bronx   \n",
       "23                    Taqueria Lupita_2358     Schuylerville      Bronx   \n",
       "24                         McDonald's_2359     Schuylerville      Bronx   \n",
       "25            Kim's Chinese and Sushi_2360     Schuylerville      Bronx   \n",
       "26                        Siam Square_2405    Spuyten Duyvil      Bronx   \n",
       "27                 Muscle Maker Grill_2460       Throgs Neck      Bronx   \n",
       "28                       Green Dragon_2461       Throgs Neck      Bronx   \n",
       "29                      Tosca Marquee_2462       Throgs Neck      Bronx   \n",
       "30             Hawaii Chinese Kitchen_2463       Throgs Neck      Bronx   \n",
       "\n",
       "    Median Household Income  Neighborhood Latitude  Neighborhood Longitude  \\\n",
       "0                   67549.0              40.821986              -73.813885   \n",
       "1                   67549.0              40.821986              -73.813885   \n",
       "2                   67549.0              40.821986              -73.813885   \n",
       "3                   67549.0              40.821986              -73.813885   \n",
       "4                   67549.0              40.821986              -73.813885   \n",
       "5                   67549.0              40.821986              -73.813885   \n",
       "6                   67549.0              40.821986              -73.813885   \n",
       "7                   67549.0              40.821986              -73.813885   \n",
       "8                   67881.0              40.725264              -73.844475   \n",
       "9                   67881.0              40.725264              -73.844475   \n",
       "10                  67881.0              40.725264              -73.844475   \n",
       "11                  67881.0              40.725264              -73.844475   \n",
       "12                  67881.0              40.725264              -73.844475   \n",
       "13                  67881.0              40.725264              -73.844475   \n",
       "14                  78895.0              40.908543              -73.904531   \n",
       "15                  78895.0              40.908543              -73.904531   \n",
       "16                  78895.0              40.908543              -73.904531   \n",
       "17                  78895.0              40.908543              -73.904531   \n",
       "18                  78895.0              40.908543              -73.904531   \n",
       "19                  98797.0              40.762160              -73.949168   \n",
       "20                  98797.0              40.762160              -73.949168   \n",
       "21                  67549.0              40.826580              -73.826203   \n",
       "22                  67549.0              40.826580              -73.826203   \n",
       "23                  67549.0              40.826580              -73.826203   \n",
       "24                  67549.0              40.826580              -73.826203   \n",
       "25                  67549.0              40.826580              -73.826203   \n",
       "26                  67534.0              40.881395              -73.917190   \n",
       "27                  67549.0              40.815109              -73.816350   \n",
       "28                  67549.0              40.815109              -73.816350   \n",
       "29                  67549.0              40.815109              -73.816350   \n",
       "30                  67549.0              40.815109              -73.816350   \n",
       "\n",
       "        Pop./km2        Venue Category  Venue Latitude  Venue Longitude  \\\n",
       "0   14353.379074   American Restaurant       40.819391       -73.817298   \n",
       "1   14353.379074    Italian Restaurant       40.823119       -73.819403   \n",
       "2   14353.379074      Asian Restaurant       40.818878       -73.816793   \n",
       "3   14353.379074    Italian Restaurant       40.819222       -73.817601   \n",
       "4   14353.379074    Italian Restaurant       40.820399       -73.817702   \n",
       "5   14353.379074    Italian Restaurant       40.821231       -73.818743   \n",
       "6   14353.379074  Fast Food Restaurant       40.820301       -73.817791   \n",
       "7   14353.379074    Chinese Restaurant       40.820322       -73.818159   \n",
       "8   15279.000000       Thai Restaurant       40.721062       -73.845432   \n",
       "9   15279.000000    Chinese Restaurant       40.723596       -73.847968   \n",
       "10  15279.000000   Peruvian Restaurant       40.724682       -73.850005   \n",
       "11  15279.000000      Asian Restaurant       40.720983       -73.845436   \n",
       "12  15279.000000       Thai Restaurant       40.724720       -73.850013   \n",
       "13  15279.000000    Italian Restaurant       40.720853       -73.845614   \n",
       "14  14353.379074      Sushi Restaurant       40.905672       -73.904309   \n",
       "15  14353.379074    Mexican Restaurant       40.906566       -73.904397   \n",
       "16  14353.379074    Italian Restaurant       40.905467       -73.900423   \n",
       "17  14353.379074    Italian Restaurant       40.906483       -73.903965   \n",
       "18  14353.379074    Chinese Restaurant       40.905689       -73.904298   \n",
       "19  26482.390996      Greek Restaurant       40.761915       -73.949966   \n",
       "20  26482.390996   Japanese Restaurant       40.758966       -73.952441   \n",
       "21  14353.379074    Mexican Restaurant       40.825960       -73.821352   \n",
       "22  14353.379074   American Restaurant       40.830862       -73.826386   \n",
       "23  14353.379074    Mexican Restaurant       40.829203       -73.826892   \n",
       "24  14353.379074  Fast Food Restaurant       40.827600       -73.823641   \n",
       "25  14353.379074      Sushi Restaurant       40.826917       -73.822714   \n",
       "26  14353.379074       Thai Restaurant       40.878796       -73.916701   \n",
       "27  14353.379074   American Restaurant       40.819391       -73.817298   \n",
       "28  14353.379074      Asian Restaurant       40.818878       -73.816793   \n",
       "29  14353.379074    Italian Restaurant       40.819222       -73.817601   \n",
       "30  14353.379074    Chinese Restaurant       40.818633       -73.816873   \n",
       "\n",
       "    Competitors  \n",
       "0             8  \n",
       "1             8  \n",
       "2             8  \n",
       "3             8  \n",
       "4             8  \n",
       "5             8  \n",
       "6             8  \n",
       "7             8  \n",
       "8             6  \n",
       "9             6  \n",
       "10            6  \n",
       "11            6  \n",
       "12            6  \n",
       "13            6  \n",
       "14            5  \n",
       "15            5  \n",
       "16            5  \n",
       "17            5  \n",
       "18            5  \n",
       "19            2  \n",
       "20            2  \n",
       "21            5  \n",
       "22            5  \n",
       "23            5  \n",
       "24            5  \n",
       "25            5  \n",
       "26            1  \n",
       "27            4  \n",
       "28            4  \n",
       "29            4  \n",
       "30            4  "
      ]
     },
     "execution_count": 142,
     "metadata": {},
     "output_type": "execute_result"
    }
   ],
   "source": [
    "df2=df_res.loc[df_res['Neighborhood'].isin(df1['Neighborhood'])]\n",
    "df2.reset_index(inplace=True, drop=True)\n",
    "df2"
   ]
  },
  {
   "cell_type": "code",
   "execution_count": 139,
   "metadata": {},
   "outputs": [
    {
     "data": {
      "text/plain": [
       "(31, 11)"
      ]
     },
     "execution_count": 139,
     "metadata": {},
     "output_type": "execute_result"
    }
   ],
   "source": [
    "df2.shape"
   ]
  },
  {
   "cell_type": "code",
   "execution_count": null,
   "metadata": {},
   "outputs": [],
   "source": []
  },
  {
   "cell_type": "code",
   "execution_count": 16,
   "metadata": {},
   "outputs": [
    {
     "data": {
      "text/html": [
       "<div>\n",
       "<style scoped>\n",
       "    .dataframe tbody tr th:only-of-type {\n",
       "        vertical-align: middle;\n",
       "    }\n",
       "\n",
       "    .dataframe tbody tr th {\n",
       "        vertical-align: top;\n",
       "    }\n",
       "\n",
       "    .dataframe thead th {\n",
       "        text-align: right;\n",
       "    }\n",
       "</style>\n",
       "<table border=\"1\" class=\"dataframe\">\n",
       "  <thead>\n",
       "    <tr style=\"text-align: right;\">\n",
       "      <th></th>\n",
       "      <th>Restaurant name</th>\n",
       "      <th>Median Household Income</th>\n",
       "      <th>Pop./km2</th>\n",
       "      <th>Competitors</th>\n",
       "      <th>Labels</th>\n",
       "      <th>Neighborhood</th>\n",
       "      <th>Borough</th>\n",
       "      <th>Neighborhood Latitude</th>\n",
       "      <th>Neighborhood Longitude</th>\n",
       "      <th>Venue Category</th>\n",
       "      <th>Venue Latitude</th>\n",
       "      <th>Venue Longitude</th>\n",
       "    </tr>\n",
       "  </thead>\n",
       "  <tbody>\n",
       "    <tr>\n",
       "      <th>0</th>\n",
       "      <td>White Castle_0</td>\n",
       "      <td>37816.894737</td>\n",
       "      <td>12149.0</td>\n",
       "      <td>4</td>\n",
       "      <td>2</td>\n",
       "      <td>Allerton</td>\n",
       "      <td>Bronx</td>\n",
       "      <td>40.865788</td>\n",
       "      <td>-73.859319</td>\n",
       "      <td>Fast Food Restaurant</td>\n",
       "      <td>40.866065</td>\n",
       "      <td>-73.862307</td>\n",
       "    </tr>\n",
       "    <tr>\n",
       "      <th>1</th>\n",
       "      <td>Li's Kitchen_1</td>\n",
       "      <td>37816.894737</td>\n",
       "      <td>12149.0</td>\n",
       "      <td>4</td>\n",
       "      <td>2</td>\n",
       "      <td>Allerton</td>\n",
       "      <td>Bronx</td>\n",
       "      <td>40.865788</td>\n",
       "      <td>-73.859319</td>\n",
       "      <td>Chinese Restaurant</td>\n",
       "      <td>40.863566</td>\n",
       "      <td>-73.858372</td>\n",
       "    </tr>\n",
       "    <tr>\n",
       "      <th>2</th>\n",
       "      <td>Chef King_2</td>\n",
       "      <td>37816.894737</td>\n",
       "      <td>12149.0</td>\n",
       "      <td>4</td>\n",
       "      <td>2</td>\n",
       "      <td>Allerton</td>\n",
       "      <td>Bronx</td>\n",
       "      <td>40.865788</td>\n",
       "      <td>-73.859319</td>\n",
       "      <td>Chinese Restaurant</td>\n",
       "      <td>40.865561</td>\n",
       "      <td>-73.856752</td>\n",
       "    </tr>\n",
       "    <tr>\n",
       "      <th>3</th>\n",
       "      <td>Internacional Restaurant &amp; Deli_3</td>\n",
       "      <td>37816.894737</td>\n",
       "      <td>12149.0</td>\n",
       "      <td>4</td>\n",
       "      <td>2</td>\n",
       "      <td>Allerton</td>\n",
       "      <td>Bronx</td>\n",
       "      <td>40.865788</td>\n",
       "      <td>-73.859319</td>\n",
       "      <td>Spanish Restaurant</td>\n",
       "      <td>40.863809</td>\n",
       "      <td>-73.856640</td>\n",
       "    </tr>\n",
       "    <tr>\n",
       "      <th>4</th>\n",
       "      <td>Il Sogno_762</td>\n",
       "      <td>66764.200000</td>\n",
       "      <td>2593.0</td>\n",
       "      <td>1</td>\n",
       "      <td>4</td>\n",
       "      <td>Annadale</td>\n",
       "      <td>Staten Island</td>\n",
       "      <td>40.538114</td>\n",
       "      <td>-74.178549</td>\n",
       "      <td>Restaurant</td>\n",
       "      <td>40.541286</td>\n",
       "      <td>-74.178489</td>\n",
       "    </tr>\n",
       "  </tbody>\n",
       "</table>\n",
       "</div>"
      ],
      "text/plain": [
       "                     Restaurant name  Median Household Income  Pop./km2  \\\n",
       "0                     White Castle_0             37816.894737   12149.0   \n",
       "1                     Li's Kitchen_1             37816.894737   12149.0   \n",
       "2                        Chef King_2             37816.894737   12149.0   \n",
       "3  Internacional Restaurant & Deli_3             37816.894737   12149.0   \n",
       "4                       Il Sogno_762             66764.200000    2593.0   \n",
       "\n",
       "   Competitors  Labels Neighborhood        Borough  Neighborhood Latitude  \\\n",
       "0            4       2     Allerton          Bronx              40.865788   \n",
       "1            4       2     Allerton          Bronx              40.865788   \n",
       "2            4       2     Allerton          Bronx              40.865788   \n",
       "3            4       2     Allerton          Bronx              40.865788   \n",
       "4            1       4     Annadale  Staten Island              40.538114   \n",
       "\n",
       "   Neighborhood Longitude        Venue Category  Venue Latitude  \\\n",
       "0              -73.859319  Fast Food Restaurant       40.866065   \n",
       "1              -73.859319    Chinese Restaurant       40.863566   \n",
       "2              -73.859319    Chinese Restaurant       40.865561   \n",
       "3              -73.859319    Spanish Restaurant       40.863809   \n",
       "4              -74.178549            Restaurant       40.541286   \n",
       "\n",
       "   Venue Longitude  \n",
       "0       -73.862307  \n",
       "1       -73.858372  \n",
       "2       -73.856752  \n",
       "3       -73.856640  \n",
       "4       -74.178489  "
      ]
     },
     "execution_count": 16,
     "metadata": {},
     "output_type": "execute_result"
    }
   ],
   "source": [
    "# merge to get venue latitude and longitude\n",
    "\n",
    "df_merge=df1.set_index('Restaurant name').join(df_res.drop(['Median Household Income','Pop./km2','Competitors'], axis=1).set_index('Restaurant name'))\n",
    "df_merge.reset_index(inplace=True)\n",
    "df_merge.head()"
   ]
  },
  {
   "cell_type": "markdown",
   "metadata": {},
   "source": [
    "\n",
    "Finally, let's visualize the resulting clusters"
   ]
  },
  {
   "cell_type": "code",
   "execution_count": 17,
   "metadata": {},
   "outputs": [
    {
     "data": {
      "text/plain": [
       "90"
      ]
     },
     "execution_count": 17,
     "metadata": {},
     "output_type": "execute_result"
    }
   ],
   "source": [
    "len(df_merge['Venue Category'].str.)"
   ]
  },
  {
   "cell_type": "code",
   "execution_count": null,
   "metadata": {},
   "outputs": [],
   "source": []
  },
  {
   "cell_type": "code",
   "execution_count": null,
   "metadata": {},
   "outputs": [],
   "source": []
  },
  {
   "cell_type": "code",
   "execution_count": null,
   "metadata": {},
   "outputs": [],
   "source": []
  },
  {
   "cell_type": "markdown",
   "metadata": {},
   "source": []
  },
  {
   "cell_type": "code",
   "execution_count": 11,
   "metadata": {},
   "outputs": [
    {
     "name": "stdout",
     "output_type": "stream",
     "text": [
      "The geograpical coordinate of New York City are 40.7127281, -74.0060152.\n"
     ]
    }
   ],
   "source": []
  },
  {
   "cell_type": "code",
   "execution_count": 55,
   "metadata": {},
   "outputs": [],
   "source": []
  },
  {
   "cell_type": "markdown",
   "metadata": {},
   "source": [
    "## 5. Examine Clusters"
   ]
  },
  {
   "cell_type": "markdown",
   "metadata": {},
   "source": [
    "#### Cluster 1"
   ]
  },
  {
   "cell_type": "code",
   "execution_count": 13,
   "metadata": {},
   "outputs": [
    {
     "name": "stdout",
     "output_type": "stream",
     "text": [
      "Numbers of restaurants in Cluster 1:  350\n"
     ]
    },
    {
     "data": {
      "text/html": [
       "<div>\n",
       "<style scoped>\n",
       "    .dataframe tbody tr th:only-of-type {\n",
       "        vertical-align: middle;\n",
       "    }\n",
       "\n",
       "    .dataframe tbody tr th {\n",
       "        vertical-align: top;\n",
       "    }\n",
       "\n",
       "    .dataframe thead th {\n",
       "        text-align: right;\n",
       "    }\n",
       "</style>\n",
       "<table border=\"1\" class=\"dataframe\">\n",
       "  <thead>\n",
       "    <tr style=\"text-align: right;\">\n",
       "      <th></th>\n",
       "      <th>Restaurant name</th>\n",
       "      <th>Median Household Income</th>\n",
       "      <th>Pop./km2</th>\n",
       "      <th>Competitors</th>\n",
       "      <th>Labels</th>\n",
       "      <th>Neighborhood</th>\n",
       "      <th>Borough</th>\n",
       "      <th>Neighborhood Latitude</th>\n",
       "      <th>Neighborhood Longitude</th>\n",
       "      <th>Venue Category</th>\n",
       "      <th>Venue Latitude</th>\n",
       "      <th>Venue Longitude</th>\n",
       "    </tr>\n",
       "  </thead>\n",
       "  <tbody>\n",
       "    <tr>\n",
       "      <th>327</th>\n",
       "      <td>Lex Restaurant_1067</td>\n",
       "      <td>155213.0</td>\n",
       "      <td>26482.390996</td>\n",
       "      <td>24</td>\n",
       "      <td>0</td>\n",
       "      <td>Carnegie Hill</td>\n",
       "      <td>Manhattan</td>\n",
       "      <td>40.782683</td>\n",
       "      <td>-73.953256</td>\n",
       "      <td>Italian Restaurant</td>\n",
       "      <td>40.782530</td>\n",
       "      <td>-73.953700</td>\n",
       "    </tr>\n",
       "    <tr>\n",
       "      <th>328</th>\n",
       "      <td>Sfoglia_1068</td>\n",
       "      <td>155213.0</td>\n",
       "      <td>26482.390996</td>\n",
       "      <td>24</td>\n",
       "      <td>0</td>\n",
       "      <td>Carnegie Hill</td>\n",
       "      <td>Manhattan</td>\n",
       "      <td>40.782683</td>\n",
       "      <td>-73.953256</td>\n",
       "      <td>Italian Restaurant</td>\n",
       "      <td>40.783419</td>\n",
       "      <td>-73.952768</td>\n",
       "    </tr>\n",
       "    <tr>\n",
       "      <th>329</th>\n",
       "      <td>Dig Inn_1069</td>\n",
       "      <td>155213.0</td>\n",
       "      <td>26482.390996</td>\n",
       "      <td>24</td>\n",
       "      <td>0</td>\n",
       "      <td>Carnegie Hill</td>\n",
       "      <td>Manhattan</td>\n",
       "      <td>40.782683</td>\n",
       "      <td>-73.953256</td>\n",
       "      <td>American Restaurant</td>\n",
       "      <td>40.780312</td>\n",
       "      <td>-73.954745</td>\n",
       "    </tr>\n",
       "    <tr>\n",
       "      <th>330</th>\n",
       "      <td>Table d'Hote_1070</td>\n",
       "      <td>155213.0</td>\n",
       "      <td>26482.390996</td>\n",
       "      <td>24</td>\n",
       "      <td>0</td>\n",
       "      <td>Carnegie Hill</td>\n",
       "      <td>Manhattan</td>\n",
       "      <td>40.782683</td>\n",
       "      <td>-73.953256</td>\n",
       "      <td>French Restaurant</td>\n",
       "      <td>40.784492</td>\n",
       "      <td>-73.955712</td>\n",
       "    </tr>\n",
       "    <tr>\n",
       "      <th>331</th>\n",
       "      <td>Naruto Ramen_1071</td>\n",
       "      <td>155213.0</td>\n",
       "      <td>26482.390996</td>\n",
       "      <td>24</td>\n",
       "      <td>0</td>\n",
       "      <td>Carnegie Hill</td>\n",
       "      <td>Manhattan</td>\n",
       "      <td>40.782683</td>\n",
       "      <td>-73.953256</td>\n",
       "      <td>Ramen Restaurant</td>\n",
       "      <td>40.781074</td>\n",
       "      <td>-73.952299</td>\n",
       "    </tr>\n",
       "  </tbody>\n",
       "</table>\n",
       "</div>"
      ],
      "text/plain": [
       "         Restaurant name  Median Household Income      Pop./km2  Competitors  \\\n",
       "327  Lex Restaurant_1067                 155213.0  26482.390996           24   \n",
       "328         Sfoglia_1068                 155213.0  26482.390996           24   \n",
       "329         Dig Inn_1069                 155213.0  26482.390996           24   \n",
       "330    Table d'Hote_1070                 155213.0  26482.390996           24   \n",
       "331    Naruto Ramen_1071                 155213.0  26482.390996           24   \n",
       "\n",
       "     Labels   Neighborhood    Borough  Neighborhood Latitude  \\\n",
       "327       0  Carnegie Hill  Manhattan              40.782683   \n",
       "328       0  Carnegie Hill  Manhattan              40.782683   \n",
       "329       0  Carnegie Hill  Manhattan              40.782683   \n",
       "330       0  Carnegie Hill  Manhattan              40.782683   \n",
       "331       0  Carnegie Hill  Manhattan              40.782683   \n",
       "\n",
       "     Neighborhood Longitude       Venue Category  Venue Latitude  \\\n",
       "327              -73.953256   Italian Restaurant       40.782530   \n",
       "328              -73.953256   Italian Restaurant       40.783419   \n",
       "329              -73.953256  American Restaurant       40.780312   \n",
       "330              -73.953256    French Restaurant       40.784492   \n",
       "331              -73.953256     Ramen Restaurant       40.781074   \n",
       "\n",
       "     Venue Longitude  \n",
       "327       -73.953700  \n",
       "328       -73.952768  \n",
       "329       -73.954745  \n",
       "330       -73.955712  \n",
       "331       -73.952299  "
      ]
     },
     "execution_count": 13,
     "metadata": {},
     "output_type": "execute_result"
    }
   ],
   "source": [
    "df_c1=df_merge.loc[df_merge['Labels'] == 0, df_merge.columns[[0] + list(range(1, df_merge.shape[1]))]]\n",
    "print(\"Numbers of restaurants in Cluster 1: \", df_c1.shape[0])\n",
    "df_c1.head()"
   ]
  },
  {
   "cell_type": "markdown",
   "metadata": {},
   "source": [
    "## One Hot Encoding  "
   ]
  },
  {
   "cell_type": "markdown",
   "metadata": {},
   "source": [
    "#### Feature befor One Hot Encoding"
   ]
  },
  {
   "cell_type": "code",
   "execution_count": 14,
   "metadata": {},
   "outputs": [
    {
     "ename": "NameError",
     "evalue": "name 'df' is not defined",
     "output_type": "error",
     "traceback": [
      "\u001b[1;31m---------------------------------------------------------------------------\u001b[0m",
      "\u001b[1;31mNameError\u001b[0m                                 Traceback (most recent call last)",
      "\u001b[1;32m<ipython-input-14-80ad3a188840>\u001b[0m in \u001b[0;36m<module>\u001b[1;34m\u001b[0m\n\u001b[0;32m      1\u001b[0m \u001b[1;33m\u001b[0m\u001b[0m\n\u001b[0;32m      2\u001b[0m \u001b[1;33m\u001b[0m\u001b[0m\n\u001b[1;32m----> 3\u001b[1;33m \u001b[0mdf\u001b[0m\u001b[1;33m[\u001b[0m\u001b[1;33m[\u001b[0m\u001b[1;34m'Principal'\u001b[0m\u001b[1;33m,\u001b[0m\u001b[1;34m'terms'\u001b[0m\u001b[1;33m,\u001b[0m\u001b[1;34m'age'\u001b[0m\u001b[1;33m,\u001b[0m\u001b[1;34m'Gender'\u001b[0m\u001b[1;33m,\u001b[0m\u001b[1;34m'education'\u001b[0m\u001b[1;33m]\u001b[0m\u001b[1;33m]\u001b[0m\u001b[1;33m.\u001b[0m\u001b[0mhead\u001b[0m\u001b[1;33m(\u001b[0m\u001b[1;33m)\u001b[0m\u001b[1;33m\u001b[0m\u001b[1;33m\u001b[0m\u001b[0m\n\u001b[0m",
      "\u001b[1;31mNameError\u001b[0m: name 'df' is not defined"
     ]
    }
   ],
   "source": [
    "\n",
    "\n",
    "df[['Principal','terms','age','Gender','education']].head()"
   ]
  },
  {
   "cell_type": "markdown",
   "metadata": {},
   "source": [
    "#### Use one hot encoding technique to conver categorical varables to binary variables and append them to the feature Data Frame "
   ]
  },
  {
   "cell_type": "code",
   "execution_count": null,
   "metadata": {},
   "outputs": [],
   "source": [
    "Feature = df[['terms','age','Gender','weekend']]\n",
    "Feature = pd.concat([Feature,pd.get_dummies(df['education'])], axis=1)\n",
    "Feature.drop(['Master or Above'], axis = 1,inplace=True)\n",
    "Feature.head()\n"
   ]
  },
  {
   "cell_type": "code",
   "execution_count": null,
   "metadata": {},
   "outputs": [],
   "source": [
    "from mpl_toolkits.mplot3d import Axes3D  # noqa: F401 unused import\n",
    "\n",
    "import matplotlib.pyplot as plt\n",
    "import numpy as np\n",
    "\n",
    "\n",
    "\n",
    "def randrange(n, vmin, vmax):\n",
    "    '''\n",
    "    Helper function to make an array of random numbers having shape (n, )\n",
    "    with each number distributed Uniform(vmin, vmax).\n",
    "    '''\n",
    "    return (vmax - vmin)*np.random.rand(n) + vmin\n",
    "\n",
    "fig = plt.figure()\n",
    "ax = fig.add_subplot(111, projection='3d')\n",
    "\n",
    "n = df1.shape[0]\n",
    "\n",
    "# For each set of style and range settings, plot n random points in the box\n",
    "# defined by x in [23, 32], y in [0, 100], z in [zlow, zhigh].\n",
    "for m, zlow, zhigh in [('o', -50, -25), ('^', -30, -5)]:\n",
    "    xs = randrange(n, 23, 32)\n",
    "    ys = randrange(n, 0, 100)\n",
    "    zs = randrange(n, zlow, zhigh)\n",
    "    ax.scatter(xs, ys, zs, marker=m)\n",
    "\n",
    "ax.set_xlabel('X Label')\n",
    "ax.set_ylabel('Y Label')\n",
    "ax.set_zlabel('Z Label')\n",
    "\n",
    "plt.show()"
   ]
  },
  {
   "cell_type": "code",
   "execution_count": null,
   "metadata": {},
   "outputs": [],
   "source": [
    "df1"
   ]
  },
  {
   "cell_type": "code",
   "execution_count": null,
   "metadata": {},
   "outputs": [],
   "source": [
    "plt.figure()\n",
    "plt.plot(df_merge['Neighborhood Latitude'],df_merge['Neighborhood Longitude'],df_merge['Labels'])"
   ]
  },
  {
   "cell_type": "code",
   "execution_count": null,
   "metadata": {
    "scrolled": true
   },
   "outputs": [],
   "source": [
    "df_merge.head()"
   ]
  },
  {
   "cell_type": "code",
   "execution_count": null,
   "metadata": {},
   "outputs": [],
   "source": []
  }
 ],
 "metadata": {
  "kernelspec": {
   "display_name": "Python 3",
   "language": "python",
   "name": "python3"
  },
  "language_info": {
   "codemirror_mode": {
    "name": "ipython",
    "version": 3
   },
   "file_extension": ".py",
   "mimetype": "text/x-python",
   "name": "python",
   "nbconvert_exporter": "python",
   "pygments_lexer": "ipython3",
   "version": "3.7.1"
  }
 },
 "nbformat": 4,
 "nbformat_minor": 2
}
