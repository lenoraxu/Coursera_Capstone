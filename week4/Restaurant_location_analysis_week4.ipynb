{
 "cells": [
  {
   "cell_type": "markdown",
   "metadata": {},
   "source": [
    "# <center>**Restaurant Location Analysis**</center>\n",
    "##  <center>*IBM Applied Data Science Capstone*</center>\n",
    "###  <center>By: Luanluan Xu</center> \n",
    "###  <center>July, 2019</center> "
   ]
  },
  {
   "cell_type": "markdown",
   "metadata": {},
   "source": [
    "##  1.  Introduction"
   ]
  },
  {
   "cell_type": "markdown",
   "metadata": {},
   "source": [
    "As a Chinese proverb goes, food is the first necessity of the people, food is the most basic conditions for survival.This shows the importance of eating to human beings. Three meals a day are indispensable. However, with the speeding pace of life and high intensity work under pressure in the modern society,  spending a lot of time and energy to cook at home has become a luxury. More and more people choose to eat out or increase the frequency of eating out. Especially in modern metropolises like New York City, restaurants are everywhere, opening and closing every day. But why some restaurants after opening can be filled with customers and make a lot of money, while others have slow bussiness. Location is one of the important factors."
   ]
  },
  {
   "cell_type": "markdown",
   "metadata": {},
   "source": [
    "### 1.1 Bussiness Problem"
   ]
  },
  {
   "cell_type": "markdown",
   "metadata": {},
   "source": [
    "So how to decide a location-selection? That is the question to be answered in this priject. Based on the data of 2,711 restaurants in five Boroughs of New York City, It aimes to study the influence of household income level, population density, existing competitors and other factors on the location-selection， and find out the patterns."
   ]
  },
  {
   "cell_type": "markdown",
   "metadata": {},
   "source": [
    "### 1.2  Targeted Audiences"
   ]
  },
  {
   "cell_type": "markdown",
   "metadata": {},
   "source": [
    "This report is intended for owners or investors who want to open a restaurant. A good location is helpful to bring more customers and more sales for a restaurant, so the report is particularly  It will be used as evaluation criteria and scientific suggerstions for location-selection of a restaurant."
   ]
  },
  {
   "cell_type": "markdown",
   "metadata": {},
   "source": [
    "## 2. Data Section"
   ]
  },
  {
   "cell_type": "markdown",
   "metadata": {},
   "source": [
    "### 2.1 Data Requirement and Collection"
   ]
  },
  {
   "cell_type": "markdown",
   "metadata": {},
   "source": [
    "For the project, those data are needed:\n",
    "\n",
    "1) Neighborhoods in New York City\n",
    "From Module 3 in this course, we can get 5 boroughs in NYC and 306 neighborhoods that exist in each borough as well as the the latitude and logitude coordinates of each neighborhood, I have saved it to dy_newyork.csv.\n",
    "\n",
    "2) Restaurants in New York City\n",
    "Use the Foursquare API to explore the neighborhoods and get all the venues data. We only need the restaurants data, so I just filter the data that the venue catageory contains 'Restaurant'.  \n",
    "\n",
    "3) Population density by Neighborhoods\n",
    "a Wikipedia page (\"https://en.wikipedia.org/wiki/Neighborhoods_in_New_York_City \") has those information. I scraped the page and get the data.\n",
    "\n",
    "4) Median Household Income by Neighborhoods\n",
    "Thoes data can be found in a web page (https://ny.curbed.com/2017/8/4/16099252/new-york-neighborhood-affordability), I download them and had saved to 'Household_income_By_Neighborhoods_NYC.csv'.\n"
   ]
  },
  {
   "cell_type": "markdown",
   "metadata": {},
   "source": [
    "### 2.1 Data Cleaning and Preparation"
   ]
  },
  {
   "cell_type": "markdown",
   "metadata": {},
   "source": [
    "I clean the data and drop some features that I think it's useless or irrelevant. For example, I drop the features of area and population by Community Board(CB) in  Population density by Neighborhoods table, because in order to maintain data consistency, we only need the data by neighborhoods. \n",
    "\n",
    "There are several problems in the cleaning process.\n",
    "\n",
    "1) Because the oringinal population density is caculated by community board, so some neighborhoods in the same board are in the same cell. I split them and make sure they can be combined with Foursquare location data.\n",
    "\n",
    "2) There are 2155 population density data and 864 median household income data missed in a total of 2711 restaurant samples. Those data is too much to be ignored, so I give them the data by borough which is the mean of data by neighborhoods instead.\n",
    "\n",
    "3) Some restaurant open another store in the same or diffrent neighborhood, this is an independant sample, but it may result in an error. So I combine the restaurant name with 'index',  give every restaurant a unique name. \n",
    "\n",
    "4) Competitors around the location can divert customers, but i can's find such data online. So i build a new fatured named competitors which if the number of restaurants in the same neighborhood.\n",
    "\n",
    "Now, data from all sourses are combined into one table. There are 2711 restaurant samples and 11 features."
   ]
  },
  {
   "cell_type": "code",
   "execution_count": 4,
   "metadata": {
    "scrolled": true
   },
   "outputs": [
    {
     "name": "stdout",
     "output_type": "stream",
     "text": [
      "(2711, 11)\n"
     ]
    },
    {
     "data": {
      "text/html": [
       "<div>\n",
       "<style scoped>\n",
       "    .dataframe tbody tr th:only-of-type {\n",
       "        vertical-align: middle;\n",
       "    }\n",
       "\n",
       "    .dataframe tbody tr th {\n",
       "        vertical-align: top;\n",
       "    }\n",
       "\n",
       "    .dataframe thead th {\n",
       "        text-align: right;\n",
       "    }\n",
       "</style>\n",
       "<table border=\"1\" class=\"dataframe\">\n",
       "  <thead>\n",
       "    <tr style=\"text-align: right;\">\n",
       "      <th></th>\n",
       "      <th>Restaurant name</th>\n",
       "      <th>Neighborhood</th>\n",
       "      <th>Borough</th>\n",
       "      <th>Median Household Income</th>\n",
       "      <th>Neighborhood Latitude</th>\n",
       "      <th>Neighborhood Longitude</th>\n",
       "      <th>Pop./km2</th>\n",
       "      <th>Competitors</th>\n",
       "      <th>Venue Category</th>\n",
       "      <th>Venue Latitude</th>\n",
       "      <th>Venue Longitude</th>\n",
       "    </tr>\n",
       "  </thead>\n",
       "  <tbody>\n",
       "    <tr>\n",
       "      <th>0</th>\n",
       "      <td>White Castle_0</td>\n",
       "      <td>Allerton</td>\n",
       "      <td>Bronx</td>\n",
       "      <td>37816.894737</td>\n",
       "      <td>40.865788</td>\n",
       "      <td>-73.859319</td>\n",
       "      <td>12149.0</td>\n",
       "      <td>White Castle</td>\n",
       "      <td>Fast Food Restaurant</td>\n",
       "      <td>40.866065</td>\n",
       "      <td>-73.862307</td>\n",
       "    </tr>\n",
       "    <tr>\n",
       "      <th>1</th>\n",
       "      <td>Li's Kitchen_1</td>\n",
       "      <td>Allerton</td>\n",
       "      <td>Bronx</td>\n",
       "      <td>37816.894737</td>\n",
       "      <td>40.865788</td>\n",
       "      <td>-73.859319</td>\n",
       "      <td>12149.0</td>\n",
       "      <td>Li's Kitchen</td>\n",
       "      <td>Chinese Restaurant</td>\n",
       "      <td>40.863566</td>\n",
       "      <td>-73.858372</td>\n",
       "    </tr>\n",
       "    <tr>\n",
       "      <th>2</th>\n",
       "      <td>Chef King_2</td>\n",
       "      <td>Allerton</td>\n",
       "      <td>Bronx</td>\n",
       "      <td>37816.894737</td>\n",
       "      <td>40.865788</td>\n",
       "      <td>-73.859319</td>\n",
       "      <td>12149.0</td>\n",
       "      <td>Chef King</td>\n",
       "      <td>Chinese Restaurant</td>\n",
       "      <td>40.865561</td>\n",
       "      <td>-73.856752</td>\n",
       "    </tr>\n",
       "    <tr>\n",
       "      <th>3</th>\n",
       "      <td>Internacional Restaurant &amp; Deli_3</td>\n",
       "      <td>Allerton</td>\n",
       "      <td>Bronx</td>\n",
       "      <td>37816.894737</td>\n",
       "      <td>40.865788</td>\n",
       "      <td>-73.859319</td>\n",
       "      <td>12149.0</td>\n",
       "      <td>Internacional Restaurant &amp; Deli</td>\n",
       "      <td>Spanish Restaurant</td>\n",
       "      <td>40.863809</td>\n",
       "      <td>-73.856640</td>\n",
       "    </tr>\n",
       "    <tr>\n",
       "      <th>4</th>\n",
       "      <td>Il Sogno_762</td>\n",
       "      <td>Annadale</td>\n",
       "      <td>Staten Island</td>\n",
       "      <td>66764.200000</td>\n",
       "      <td>40.538114</td>\n",
       "      <td>-74.178549</td>\n",
       "      <td>2593.0</td>\n",
       "      <td>Il Sogno</td>\n",
       "      <td>Restaurant</td>\n",
       "      <td>40.541286</td>\n",
       "      <td>-74.178489</td>\n",
       "    </tr>\n",
       "  </tbody>\n",
       "</table>\n",
       "</div>"
      ],
      "text/plain": [
       "                     Restaurant name Neighborhood        Borough  \\\n",
       "0                     White Castle_0     Allerton          Bronx   \n",
       "1                     Li's Kitchen_1     Allerton          Bronx   \n",
       "2                        Chef King_2     Allerton          Bronx   \n",
       "3  Internacional Restaurant & Deli_3     Allerton          Bronx   \n",
       "4                       Il Sogno_762     Annadale  Staten Island   \n",
       "\n",
       "   Median Household Income  Neighborhood Latitude  Neighborhood Longitude  \\\n",
       "0             37816.894737              40.865788              -73.859319   \n",
       "1             37816.894737              40.865788              -73.859319   \n",
       "2             37816.894737              40.865788              -73.859319   \n",
       "3             37816.894737              40.865788              -73.859319   \n",
       "4             66764.200000              40.538114              -74.178549   \n",
       "\n",
       "   Pop./km2                      Competitors        Venue Category  \\\n",
       "0   12149.0                     White Castle  Fast Food Restaurant   \n",
       "1   12149.0                     Li's Kitchen    Chinese Restaurant   \n",
       "2   12149.0                        Chef King    Chinese Restaurant   \n",
       "3   12149.0  Internacional Restaurant & Deli    Spanish Restaurant   \n",
       "4    2593.0                         Il Sogno            Restaurant   \n",
       "\n",
       "   Venue Latitude  Venue Longitude  \n",
       "0       40.866065       -73.862307  \n",
       "1       40.863566       -73.858372  \n",
       "2       40.865561       -73.856752  \n",
       "3       40.863809       -73.856640  \n",
       "4       40.541286       -74.178489  "
      ]
     },
     "execution_count": 4,
     "metadata": {},
     "output_type": "execute_result"
    }
   ],
   "source": [
    "import pandas as pd\n",
    "\n",
    "df_res=pd.read_csv('df_res.csv')\n",
    "print(df_res.shape)\n",
    "df_res.head()"
   ]
  },
  {
   "cell_type": "markdown",
   "metadata": {},
   "source": [
    "In the next section, I will do data analysis with different skills, such as regression, machine learning(K-meanas clustering) and map visualization(Folium) to find out the patterns."
   ]
  },
  {
   "cell_type": "code",
   "execution_count": null,
   "metadata": {},
   "outputs": [],
   "source": []
  }
 ],
 "metadata": {
  "kernelspec": {
   "display_name": "Python 3",
   "language": "python",
   "name": "python3"
  },
  "language_info": {
   "codemirror_mode": {
    "name": "ipython",
    "version": 3
   },
   "file_extension": ".py",
   "mimetype": "text/x-python",
   "name": "python",
   "nbconvert_exporter": "python",
   "pygments_lexer": "ipython3",
   "version": "3.7.1"
  }
 },
 "nbformat": 4,
 "nbformat_minor": 2
}
